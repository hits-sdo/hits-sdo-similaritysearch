{
  "cells": [
    {
      "cell_type": "markdown",
      "metadata": {
        "id": "view-in-github",
        "colab_type": "text"
      },
      "source": [
        "<a href=\"https://colab.research.google.com/github/hits-sdo/hits-sdo-similaritysearch/blob/byol_cuml/search_byol/byol_train_pl.ipynb\" target=\"_parent\"><img src=\"https://colab.research.google.com/assets/colab-badge.svg\" alt=\"Open In Colab\"/></a>"
      ]
    },
    {
      "cell_type": "markdown",
      "metadata": {
        "id": "XSmPQhQA8cPS"
      },
      "source": [
        "# Notebook to Intialize HITS-SDO self-similarity search environment\n",
        "- Run all cells to initalize environment, and restart runtime if prompted to use updated versions. You will need to rerun the cells again to ensure that all dependencies have been installed."
      ]
    },
    {
      "cell_type": "markdown",
      "metadata": {
        "id": "dqLSpbNoO1po"
      },
      "source": [
        "# Download and Unzip Data"
      ]
    },
    {
      "cell_type": "code",
      "execution_count": 1,
      "metadata": {
        "colab": {
          "base_uri": "https://localhost:8080/"
        },
        "id": "erAMHVo9NS7U",
        "outputId": "ad83eedb-4e2e-4124-fa35-359acee10fb7"
      },
      "outputs": [
        {
          "output_type": "stream",
          "name": "stdout",
          "text": [
            "Downloading...\n",
            "From: https://drive.google.com/uc?id=1DMIatOmA4XcoWeW0oAUkZujx8YrhLkpY\n",
            "To: /content/AIA211_193_171_Miniset.tar.gz\n",
            "100% 121M/121M [00:03<00:00, 39.6MB/s]\n",
            "Downloading...\n",
            "From: https://drive.google.com/uc?id=1-BPQpdQWNwZzoVpg3lQ143cr3_UPE36M\n",
            "To: /content/AIA211_193_171_Miniset_ext.tar.gz\n",
            "100% 175M/175M [00:03<00:00, 49.2MB/s]\n"
          ]
        }
      ],
      "source": [
        "# Download Data - Uncomment the one you want\n",
        "\n",
        "# 171 with false yellow colors - https://drive.google.com/file/d/15C5spf1la7L09kvWXll2qt67Ec0rwLsY/view?usp=drive_link\n",
        "# !gdown 15C5spf1la7L09kvWXll2qt67Ec0rwLsY\n",
        "\n",
        "\n",
        "# 171 grayscale - https://drive.google.com/file/d/16WD0td1f5gx4yIIDkWWSTb-oZcezI1CU/view?usp=drive_link\n",
        "# !gdown 16WD0td1f5gx4yIIDkWWSTb-oZcezI1CU\n",
        "\n",
        "\n",
        "# Multiwavelength r:211 g:193 b:171 https://drive.google.com/file/d/1DMIatOmA4XcoWeW0oAUkZujx8YrhLkpY/view?usp=sharing\n",
        "!gdown 1DMIatOmA4XcoWeW0oAUkZujx8YrhLkpY\n",
        "# Multiwavelength r:211 g:193 b:171active cycle extension https://drive.google.com/file/d/1-BPQpdQWNwZzoVpg3lQ143cr3_UPE36M/view?usp=sharing\n",
        "!gdown 1-BPQpdQWNwZzoVpg3lQ143cr3_UPE36M\n",
        "\n",
        "# Multiwavelength r:304 g:211 b:171 https://drive.google.com/file/d/1Pts431S-fdSfJJ6pt79-fkNYazXqO9O7/view?usp=sharing\n",
        "# !gdown 1Pts431S-fdSfJJ6pt79-fkNYazXqO9O7\n",
        "# Multiwavelength r:304 g:211 b:171 active cycle extension https://drive.google.com/file/d/1Sbbgi6HzJkuCTUF8tJTLeddpGIjGXTcj/view?usp=sharing\n",
        "# !gdown 1Sbbgi6HzJkuCTUF8tJTLeddpGIjGXTcj\n",
        "\n",
        "\n",
        "# Multiwavelength r:335 g:193 b:94 https://drive.google.com/file/d/1v0IYSzwiQcHPcnSsTAeU7bI8c4310b35/view?usp=sharing\n",
        "# !gdown 1v0IYSzwiQcHPcnSsTAeU7bI8c4310b35\n",
        "# Multiwavelength r:335 g:193 b:94 active cycle extension https://drive.google.com/file/d/1uSt8BzpVj5GgM9SwSsDcQMEE4lv1uTJo/view?usp=sharing\n",
        "# !gdown 1uSt8BzpVj5GgM9SwSsDcQMEE4lv1uTJo"
      ]
    },
    {
      "cell_type": "code",
      "execution_count": 2,
      "metadata": {
        "id": "IJYUU6FAOJeM"
      },
      "outputs": [],
      "source": [
        "# Unzip file make them match the cell above\n",
        "\n",
        "# 171 with false yellow colors\n",
        "# !tar -zxf aia_171_color_1perMonth.tar.gz\n",
        "\n",
        "\n",
        "# 171 grayscale\n",
        "# !tar -zxf AIA171_Miniset_BW.tar.gz\n",
        "\n",
        "\n",
        "# Multiwavelength r:211 g:193 b:171\n",
        "!tar -zxf AIA211_193_171_Miniset.tar.gz\n",
        "# Multiwavelength r:211 g:193 b:171active cycle extension\n",
        "!tar -zxf AIA211_193_171_Miniset_ext.tar.gz\n",
        "\n",
        "\n",
        "# Multiwavelength r:304 g:211 b:171\n",
        "# !tar -zxf AIA304_211_171_Miniset.tar.gz\n",
        "# Multiwavelength r:304 g:211 b:171 active cycle extension\n",
        "# !tar -zxf AIA304_211_171_Miniset_ext.tar.gz\n",
        "\n",
        "\n",
        "# Multiwavelength r:335 g:193 b:94\n",
        "# !tar -zxf AIA335_193_94_Miniset.tar.gz\n",
        "# Multiwavelength r:335 g:193 b:94 active cycle extension\n",
        "# !tar -zxf AIA335_193_94_Miniset_ext.tar.gz"
      ]
    },
    {
      "cell_type": "code",
      "execution_count": 3,
      "metadata": {
        "id": "FYwjORgaP2yY"
      },
      "outputs": [],
      "source": [
        "# Print some files to see that they exist - match cells above\n",
        "\n",
        "# 171 with false yellow colors\n",
        "# !du aia_171_color_1perMonth/. -l -h\n",
        "\n",
        "# 171 grayscale\n",
        "# !du AIA171_Miniset_BW/. -l -h\n",
        "\n",
        "# Multiwavelength r:211 g:193 b:171\n",
        "# !du AIA211_193_171_Miniset/. -l -h\n",
        "\n",
        "# Multiwavelength r:304 g:211 b:171\n",
        "# !du AIA304_211_171_Miniset/. -l -h\n",
        "\n",
        "# Multiwavelength r:335 g:193 b:94\n",
        "# !du AIA335_193_94_Miniset/. -l -h"
      ]
    },
    {
      "cell_type": "markdown",
      "metadata": {
        "id": "3gNxeWeSQRUp"
      },
      "source": [
        "# Clone repository"
      ]
    },
    {
      "cell_type": "code",
      "execution_count": 4,
      "metadata": {
        "colab": {
          "base_uri": "https://localhost:8080/"
        },
        "id": "blhqiMyQ8f8c",
        "outputId": "a56c3c27-68e0-4012-c1dc-6e973c9ab4b9"
      },
      "outputs": [
        {
          "output_type": "stream",
          "name": "stdout",
          "text": [
            "Cloning into 'hits-sdo-similaritysearch'...\n",
            "remote: Enumerating objects: 1593, done.\u001b[K\n",
            "remote: Counting objects: 100% (304/304), done.\u001b[K\n",
            "remote: Compressing objects: 100% (150/150), done.\u001b[K\n",
            "remote: Total 1593 (delta 198), reused 173 (delta 153), pack-reused 1289\u001b[K\n",
            "Receiving objects: 100% (1593/1593), 242.18 MiB | 18.24 MiB/s, done.\n",
            "Resolving deltas: 100% (849/849), done.\n"
          ]
        }
      ],
      "source": [
        "# Clone the repository from GitHub\n",
        "!git clone https://github.com/hits-sdo/hits-sdo-similaritysearch"
      ]
    },
    {
      "cell_type": "code",
      "execution_count": 5,
      "metadata": {
        "colab": {
          "base_uri": "https://localhost:8080/"
        },
        "id": "M1gZD1xt-uoz",
        "outputId": "18f948fb-1e8b-4a1a-8380-8b505ab08ee1"
      },
      "outputs": [
        {
          "output_type": "stream",
          "name": "stdout",
          "text": [
            "/content/hits-sdo-similaritysearch\n"
          ]
        }
      ],
      "source": [
        "%cd hits-sdo-similaritysearch/"
      ]
    },
    {
      "cell_type": "markdown",
      "metadata": {
        "id": "VZQt3zDtQf1G"
      },
      "source": [
        "# Switch to Desired Branch"
      ]
    },
    {
      "cell_type": "code",
      "execution_count": 6,
      "metadata": {
        "colab": {
          "base_uri": "https://localhost:8080/"
        },
        "id": "h_Lr1XLG931E",
        "outputId": "89a71859-8dac-4763-9e66-58c4f176da7f"
      },
      "outputs": [
        {
          "output_type": "stream",
          "name": "stdout",
          "text": [
            "Branch 'byol_cuml' set up to track remote branch 'byol_cuml' from 'origin'.\n",
            "Switched to a new branch 'byol_cuml'\n"
          ]
        }
      ],
      "source": [
        "# Switch to the desired branch with requirements.txt\n",
        "!git checkout byol_cuml"
      ]
    },
    {
      "cell_type": "code",
      "execution_count": 7,
      "metadata": {
        "id": "-AWACo_j-emk"
      },
      "outputs": [],
      "source": [
        "# Confirm that branch is up to date\n",
        "# !git log --oneline"
      ]
    },
    {
      "cell_type": "markdown",
      "metadata": {
        "id": "r65HUQl7QoSM"
      },
      "source": [
        "# Install all necesary packages into environment"
      ]
    },
    {
      "cell_type": "code",
      "source": [
        "!pip uninstall -y -q -r requirements_cuml.txt"
      ],
      "metadata": {
        "id": "E01zWPA7fcVL",
        "outputId": "20203576-fe86-423e-9fc1-c7e30678ba19",
        "colab": {
          "base_uri": "https://localhost:8080/"
        }
      },
      "execution_count": 8,
      "outputs": [
        {
          "output_type": "stream",
          "name": "stdout",
          "text": [
            "Found existing installation: pyarrow 9.0.0\n",
            "Uninstalling pyarrow-9.0.0:\n",
            "  Successfully uninstalled pyarrow-9.0.0\n",
            "Found existing installation: pandas-gbq 0.17.9\n",
            "Uninstalling pandas-gbq-0.17.9:\n",
            "  Successfully uninstalled pandas-gbq-0.17.9\n",
            "Found existing installation: cupy-cuda11x 11.0.0\n",
            "Uninstalling cupy-cuda11x-11.0.0:\n",
            "  Successfully uninstalled cupy-cuda11x-11.0.0\n",
            "\u001b[33mWARNING: Skipping cudf-cu11 as it is not installed.\u001b[0m\u001b[33m\n",
            "\u001b[0m\u001b[33mWARNING: Skipping cuml-cu11 as it is not installed.\u001b[0m\u001b[33m\n",
            "\u001b[0m"
          ]
        }
      ]
    },
    {
      "cell_type": "code",
      "execution_count": 9,
      "metadata": {
        "colab": {
          "base_uri": "https://localhost:8080/",
          "height": 1000
        },
        "id": "g3AWVW-w9RSV",
        "outputId": "52ea9841-5f63-444f-ae58-d47b0954cfcf"
      },
      "outputs": [
        {
          "output_type": "stream",
          "name": "stdout",
          "text": [
            "Collecting git+https://github.com/hits-sdo/hits-sdo-packager.git@pip_nodata (from -r requirements.txt (line 18))\n",
            "  Cloning https://github.com/hits-sdo/hits-sdo-packager.git (to revision pip_nodata) to /tmp/pip-req-build-2oeo9ofw\n",
            "  Running command git clone --filter=blob:none --quiet https://github.com/hits-sdo/hits-sdo-packager.git /tmp/pip-req-build-2oeo9ofw\n",
            "  Running command git checkout -b pip_nodata --track origin/pip_nodata\n",
            "  Switched to a new branch 'pip_nodata'\n",
            "  Branch 'pip_nodata' set up to track remote branch 'pip_nodata' from 'origin'.\n",
            "  Resolved https://github.com/hits-sdo/hits-sdo-packager.git to commit 8afea38ee7fbcad371082a5ba0ab79581c9fca4e\n",
            "  Preparing metadata (setup.py) ... \u001b[?25l\u001b[?25hdone\n",
            "Collecting lightning (from -r requirements.txt (line 6))\n",
            "  Downloading lightning-2.0.5-py3-none-any.whl (1.9 MB)\n",
            "\u001b[2K     \u001b[90m━━━━━━━━━━━━━━━━━━━━━━━━━━━━━━━━━━━━━━━━\u001b[0m \u001b[32m1.9/1.9 MB\u001b[0m \u001b[31m73.8 MB/s\u001b[0m eta \u001b[36m0:00:00\u001b[0m\n",
            "\u001b[?25hCollecting lightly (from -r requirements.txt (line 7))\n",
            "  Downloading lightly-1.4.12-py3-none-any.whl (632 kB)\n",
            "\u001b[2K     \u001b[90m━━━━━━━━━━━━━━━━━━━━━━━━━━━━━━━━━━━━━━\u001b[0m \u001b[32m632.6/632.6 kB\u001b[0m \u001b[31m54.8 MB/s\u001b[0m eta \u001b[36m0:00:00\u001b[0m\n",
            "\u001b[?25hCollecting sunpy (from -r requirements.txt (line 8))\n",
            "  Downloading sunpy-5.0.0-cp39-abi3-manylinux_2_17_x86_64.manylinux2014_x86_64.whl (3.3 MB)\n",
            "\u001b[2K     \u001b[90m━━━━━━━━━━━━━━━━━━━━━━━━━━━━━━━━━━━━━━━━\u001b[0m \u001b[32m3.3/3.3 MB\u001b[0m \u001b[31m89.9 MB/s\u001b[0m eta \u001b[36m0:00:00\u001b[0m\n",
            "\u001b[?25hRequirement already satisfied: pandas in /usr/local/lib/python3.10/dist-packages (from -r requirements.txt (line 9)) (1.5.3)\n",
            "Collecting wandb (from -r requirements.txt (line 10))\n",
            "  Downloading wandb-0.15.5-py3-none-any.whl (2.1 MB)\n",
            "\u001b[2K     \u001b[90m━━━━━━━━━━━━━━━━━━━━━━━━━━━━━━━━━━━━━━━━\u001b[0m \u001b[32m2.1/2.1 MB\u001b[0m \u001b[31m68.9 MB/s\u001b[0m eta \u001b[36m0:00:00\u001b[0m\n",
            "\u001b[?25hRequirement already satisfied: ipywidgets in /usr/local/lib/python3.10/dist-packages (from -r requirements.txt (line 11)) (7.7.1)\n",
            "Requirement already satisfied: plotly in /usr/local/lib/python3.10/dist-packages (from -r requirements.txt (line 12)) (5.13.1)\n",
            "Requirement already satisfied: opencv-python in /usr/local/lib/python3.10/dist-packages (from -r requirements.txt (line 13)) (4.7.0.72)\n",
            "Requirement already satisfied: scikit-learn==1.2.2 in /usr/local/lib/python3.10/dist-packages (from -r requirements.txt (line 14)) (1.2.2)\n",
            "Collecting umap-learn (from -r requirements.txt (line 15))\n",
            "  Downloading umap-learn-0.5.3.tar.gz (88 kB)\n",
            "\u001b[2K     \u001b[90m━━━━━━━━━━━━━━━━━━━━━━━━━━━━━━━━━━━━━━━━\u001b[0m \u001b[32m88.2/88.2 kB\u001b[0m \u001b[31m13.0 MB/s\u001b[0m eta \u001b[36m0:00:00\u001b[0m\n",
            "\u001b[?25h  Preparing metadata (setup.py) ... \u001b[?25l\u001b[?25hdone\n",
            "Collecting hdbscan (from -r requirements.txt (line 16))\n",
            "  Downloading hdbscan-0.8.30.tar.gz (5.2 MB)\n",
            "\u001b[2K     \u001b[90m━━━━━━━━━━━━━━━━━━━━━━━━━━━━━━━━━━━━━━━━\u001b[0m \u001b[32m5.2/5.2 MB\u001b[0m \u001b[31m59.6 MB/s\u001b[0m eta \u001b[36m0:00:00\u001b[0m\n",
            "\u001b[?25h  Installing build dependencies ... \u001b[?25l\u001b[?25hdone\n",
            "  Getting requirements to build wheel ... \u001b[?25l\u001b[?25hdone\n",
            "  Preparing metadata (pyproject.toml) ... \u001b[?25l\u001b[?25hdone\n",
            "Requirement already satisfied: seaborn in /usr/local/lib/python3.10/dist-packages (from -r requirements.txt (line 17)) (0.12.2)\n",
            "Requirement already satisfied: numpy>=1.17.3 in /usr/local/lib/python3.10/dist-packages (from scikit-learn==1.2.2->-r requirements.txt (line 14)) (1.22.4)\n",
            "Requirement already satisfied: scipy>=1.3.2 in /usr/local/lib/python3.10/dist-packages (from scikit-learn==1.2.2->-r requirements.txt (line 14)) (1.10.1)\n",
            "Requirement already satisfied: joblib>=1.1.1 in /usr/local/lib/python3.10/dist-packages (from scikit-learn==1.2.2->-r requirements.txt (line 14)) (1.3.1)\n",
            "Requirement already satisfied: threadpoolctl>=2.0.0 in /usr/local/lib/python3.10/dist-packages (from scikit-learn==1.2.2->-r requirements.txt (line 14)) (3.1.0)\n",
            "Requirement already satisfied: Jinja2<5.0 in /usr/local/lib/python3.10/dist-packages (from lightning->-r requirements.txt (line 6)) (3.1.2)\n",
            "Requirement already satisfied: PyYAML<8.0 in /usr/local/lib/python3.10/dist-packages (from lightning->-r requirements.txt (line 6)) (6.0)\n",
            "Collecting arrow<3.0,>=1.2.0 (from lightning->-r requirements.txt (line 6))\n",
            "  Downloading arrow-1.2.3-py3-none-any.whl (66 kB)\n",
            "\u001b[2K     \u001b[90m━━━━━━━━━━━━━━━━━━━━━━━━━━━━━━━━━━━━━━━━\u001b[0m \u001b[32m66.4/66.4 kB\u001b[0m \u001b[31m9.8 MB/s\u001b[0m eta \u001b[36m0:00:00\u001b[0m\n",
            "\u001b[?25hCollecting backoff<4.0,>=2.2.1 (from lightning->-r requirements.txt (line 6))\n",
            "  Downloading backoff-2.2.1-py3-none-any.whl (15 kB)\n",
            "Requirement already satisfied: beautifulsoup4<6.0,>=4.8.0 in /usr/local/lib/python3.10/dist-packages (from lightning->-r requirements.txt (line 6)) (4.11.2)\n",
            "Requirement already satisfied: click<10.0 in /usr/local/lib/python3.10/dist-packages (from lightning->-r requirements.txt (line 6)) (8.1.4)\n",
            "Collecting croniter<1.5.0,>=1.3.0 (from lightning->-r requirements.txt (line 6))\n",
            "  Downloading croniter-1.4.1-py2.py3-none-any.whl (19 kB)\n",
            "Collecting dateutils<2.0 (from lightning->-r requirements.txt (line 6))\n",
            "  Downloading dateutils-0.6.12-py2.py3-none-any.whl (5.7 kB)\n",
            "Collecting deepdiff<8.0,>=5.7.0 (from lightning->-r requirements.txt (line 6))\n",
            "  Downloading deepdiff-6.3.1-py3-none-any.whl (70 kB)\n",
            "\u001b[2K     \u001b[90m━━━━━━━━━━━━━━━━━━━━━━━━━━━━━━━━━━━━━━━━\u001b[0m \u001b[32m70.7/70.7 kB\u001b[0m \u001b[31m10.3 MB/s\u001b[0m eta \u001b[36m0:00:00\u001b[0m\n",
            "\u001b[?25hCollecting fastapi<2.0,>=0.92.0 (from lightning->-r requirements.txt (line 6))\n",
            "  Downloading fastapi-0.100.0-py3-none-any.whl (65 kB)\n",
            "\u001b[2K     \u001b[90m━━━━━━━━━━━━━━━━━━━━━━━━━━━━━━━━━━━━━━━━\u001b[0m \u001b[32m65.7/65.7 kB\u001b[0m \u001b[31m9.8 MB/s\u001b[0m eta \u001b[36m0:00:00\u001b[0m\n",
            "\u001b[?25hRequirement already satisfied: fsspec<2025.0,>=2022.5.0 in /usr/local/lib/python3.10/dist-packages (from lightning->-r requirements.txt (line 6)) (2023.6.0)\n",
            "Collecting inquirer<5.0,>=2.10.0 (from lightning->-r requirements.txt (line 6))\n",
            "  Downloading inquirer-3.1.3-py3-none-any.whl (18 kB)\n",
            "Collecting lightning-cloud>=0.5.37 (from lightning->-r requirements.txt (line 6))\n",
            "  Downloading lightning_cloud-0.5.37-py3-none-any.whl (596 kB)\n",
            "\u001b[2K     \u001b[90m━━━━━━━━━━━━━━━━━━━━━━━━━━━━━━━━━━━━━━\u001b[0m \u001b[32m596.7/596.7 kB\u001b[0m \u001b[31m52.5 MB/s\u001b[0m eta \u001b[36m0:00:00\u001b[0m\n",
            "\u001b[?25hCollecting lightning-utilities<2.0,>=0.7.0 (from lightning->-r requirements.txt (line 6))\n",
            "  Downloading lightning_utilities-0.9.0-py3-none-any.whl (23 kB)\n",
            "Requirement already satisfied: packaging in /usr/local/lib/python3.10/dist-packages (from lightning->-r requirements.txt (line 6)) (23.1)\n",
            "Requirement already satisfied: psutil<7.0 in /usr/local/lib/python3.10/dist-packages (from lightning->-r requirements.txt (line 6)) (5.9.5)\n",
            "Requirement already satisfied: pydantic<2.0.0,>=1.7.4 in /usr/local/lib/python3.10/dist-packages (from lightning->-r requirements.txt (line 6)) (1.10.11)\n",
            "Collecting python-multipart<2.0,>=0.0.5 (from lightning->-r requirements.txt (line 6))\n",
            "  Downloading python_multipart-0.0.6-py3-none-any.whl (45 kB)\n",
            "\u001b[2K     \u001b[90m━━━━━━━━━━━━━━━━━━━━━━━━━━━━━━━━━━━━━━━━\u001b[0m \u001b[32m45.7/45.7 kB\u001b[0m \u001b[31m6.4 MB/s\u001b[0m eta \u001b[36m0:00:00\u001b[0m\n",
            "\u001b[?25hRequirement already satisfied: requests<4.0 in /usr/local/lib/python3.10/dist-packages (from lightning->-r requirements.txt (line 6)) (2.27.1)\n",
            "Requirement already satisfied: rich<15.0,>=12.3.0 in /usr/local/lib/python3.10/dist-packages (from lightning->-r requirements.txt (line 6)) (13.4.2)\n",
            "Collecting starlette (from lightning->-r requirements.txt (line 6))\n",
            "  Downloading starlette-0.30.0-py3-none-any.whl (68 kB)\n",
            "\u001b[2K     \u001b[90m━━━━━━━━━━━━━━━━━━━━━━━━━━━━━━━━━━━━━━━━\u001b[0m \u001b[32m68.8/68.8 kB\u001b[0m \u001b[31m10.0 MB/s\u001b[0m eta \u001b[36m0:00:00\u001b[0m\n",
            "\u001b[?25hCollecting starsessions<2.0,>=1.2.1 (from lightning->-r requirements.txt (line 6))\n",
            "  Downloading starsessions-1.3.0-py3-none-any.whl (10 kB)\n",
            "Requirement already satisfied: torch<4.0,>=1.11.0 in /usr/local/lib/python3.10/dist-packages (from lightning->-r requirements.txt (line 6)) (2.0.1+cu118)\n",
            "Collecting torchmetrics<2.0,>=0.7.0 (from lightning->-r requirements.txt (line 6))\n",
            "  Downloading torchmetrics-1.0.1-py3-none-any.whl (729 kB)\n",
            "\u001b[2K     \u001b[90m━━━━━━━━━━━━━━━━━━━━━━━━━━━━━━━━━━━━━━\u001b[0m \u001b[32m729.2/729.2 kB\u001b[0m \u001b[31m56.6 MB/s\u001b[0m eta \u001b[36m0:00:00\u001b[0m\n",
            "\u001b[?25hRequirement already satisfied: tqdm<6.0,>=4.57.0 in /usr/local/lib/python3.10/dist-packages (from lightning->-r requirements.txt (line 6)) (4.65.0)\n",
            "Requirement already satisfied: traitlets<7.0,>=5.3.0 in /usr/local/lib/python3.10/dist-packages (from lightning->-r requirements.txt (line 6)) (5.7.1)\n",
            "Requirement already satisfied: typing-extensions<6.0,>=4.0.0 in /usr/local/lib/python3.10/dist-packages (from lightning->-r requirements.txt (line 6)) (4.7.1)\n",
            "Requirement already satisfied: urllib3<4.0 in /usr/local/lib/python3.10/dist-packages (from lightning->-r requirements.txt (line 6)) (1.26.16)\n",
            "Collecting uvicorn<2.0 (from lightning->-r requirements.txt (line 6))\n",
            "  Downloading uvicorn-0.23.0-py3-none-any.whl (59 kB)\n",
            "\u001b[2K     \u001b[90m━━━━━━━━━━━━━━━━━━━━━━━━━━━━━━━━━━━━━━━━\u001b[0m \u001b[32m59.6/59.6 kB\u001b[0m \u001b[31m8.3 MB/s\u001b[0m eta \u001b[36m0:00:00\u001b[0m\n",
            "\u001b[?25hRequirement already satisfied: websocket-client<3.0 in /usr/local/lib/python3.10/dist-packages (from lightning->-r requirements.txt (line 6)) (1.6.1)\n",
            "Collecting websockets<13.0 (from lightning->-r requirements.txt (line 6))\n",
            "  Downloading websockets-11.0.3-cp310-cp310-manylinux_2_5_x86_64.manylinux1_x86_64.manylinux_2_17_x86_64.manylinux2014_x86_64.whl (129 kB)\n",
            "\u001b[2K     \u001b[90m━━━━━━━━━━━━━━━━━━━━━━━━━━━━━━━━━━━━━━\u001b[0m \u001b[32m129.9/129.9 kB\u001b[0m \u001b[31m17.6 MB/s\u001b[0m eta \u001b[36m0:00:00\u001b[0m\n",
            "\u001b[?25hCollecting pytorch-lightning (from lightning->-r requirements.txt (line 6))\n",
            "  Downloading pytorch_lightning-2.0.5-py3-none-any.whl (722 kB)\n",
            "\u001b[2K     \u001b[90m━━━━━━━━━━━━━━━━━━━━━━━━━━━━━━━━━━━━━━\u001b[0m \u001b[32m722.4/722.4 kB\u001b[0m \u001b[31m66.9 MB/s\u001b[0m eta \u001b[36m0:00:00\u001b[0m\n",
            "\u001b[?25hRequirement already satisfied: certifi>=14.05.14 in /usr/local/lib/python3.10/dist-packages (from lightly->-r requirements.txt (line 7)) (2023.5.7)\n",
            "Collecting hydra-core>=1.0.0 (from lightly->-r requirements.txt (line 7))\n",
            "  Downloading hydra_core-1.3.2-py3-none-any.whl (154 kB)\n",
            "\u001b[2K     \u001b[90m━━━━━━━━━━━━━━━━━━━━━━━━━━━━━━━━━━━━━━\u001b[0m \u001b[32m154.5/154.5 kB\u001b[0m \u001b[31m21.4 MB/s\u001b[0m eta \u001b[36m0:00:00\u001b[0m\n",
            "\u001b[?25hCollecting lightly-utils~=0.0.0 (from lightly->-r requirements.txt (line 7))\n",
            "  Downloading lightly_utils-0.0.2-py3-none-any.whl (6.4 kB)\n",
            "Requirement already satisfied: python-dateutil>=2.5.3 in /usr/local/lib/python3.10/dist-packages (from lightly->-r requirements.txt (line 7)) (2.8.2)\n",
            "Requirement already satisfied: six>=1.10 in /usr/local/lib/python3.10/dist-packages (from lightly->-r requirements.txt (line 7)) (1.16.0)\n",
            "Collecting aenum>=3.1.11 (from lightly->-r requirements.txt (line 7))\n",
            "  Downloading aenum-3.1.15-py3-none-any.whl (137 kB)\n",
            "\u001b[2K     \u001b[90m━━━━━━━━━━━━━━━━━━━━━━━━━━━━━━━━━━━━━━\u001b[0m \u001b[32m137.6/137.6 kB\u001b[0m \u001b[31m18.6 MB/s\u001b[0m eta \u001b[36m0:00:00\u001b[0m\n",
            "\u001b[?25hRequirement already satisfied: torchvision in /usr/local/lib/python3.10/dist-packages (from lightly->-r requirements.txt (line 7)) (0.15.2+cu118)\n",
            "Requirement already satisfied: astropy>=5.0.1 in /usr/local/lib/python3.10/dist-packages (from sunpy->-r requirements.txt (line 8)) (5.2.2)\n",
            "Collecting parfive[ftp]>=2.0.0 (from sunpy->-r requirements.txt (line 8))\n",
            "  Downloading parfive-2.0.2-py3-none-any.whl (26 kB)\n",
            "Requirement already satisfied: pytz>=2020.1 in /usr/local/lib/python3.10/dist-packages (from pandas->-r requirements.txt (line 9)) (2022.7.1)\n",
            "Collecting GitPython!=3.1.29,>=1.0.0 (from wandb->-r requirements.txt (line 10))\n",
            "  Downloading GitPython-3.1.32-py3-none-any.whl (188 kB)\n",
            "\u001b[2K     \u001b[90m━━━━━━━━━━━━━━━━━━━━━━━━━━━━━━━━━━━━━━\u001b[0m \u001b[32m188.5/188.5 kB\u001b[0m \u001b[31m25.1 MB/s\u001b[0m eta \u001b[36m0:00:00\u001b[0m\n",
            "\u001b[?25hCollecting sentry-sdk>=1.0.0 (from wandb->-r requirements.txt (line 10))\n",
            "  Downloading sentry_sdk-1.28.1-py2.py3-none-any.whl (214 kB)\n",
            "\u001b[2K     \u001b[90m━━━━━━━━━━━━━━━━━━━━━━━━━━━━━━━━━━━━━━\u001b[0m \u001b[32m214.7/214.7 kB\u001b[0m \u001b[31m25.5 MB/s\u001b[0m eta \u001b[36m0:00:00\u001b[0m\n",
            "\u001b[?25hCollecting docker-pycreds>=0.4.0 (from wandb->-r requirements.txt (line 10))\n",
            "  Downloading docker_pycreds-0.4.0-py2.py3-none-any.whl (9.0 kB)\n",
            "Collecting pathtools (from wandb->-r requirements.txt (line 10))\n",
            "  Downloading pathtools-0.1.2.tar.gz (11 kB)\n",
            "  Preparing metadata (setup.py) ... \u001b[?25l\u001b[?25hdone\n",
            "Collecting setproctitle (from wandb->-r requirements.txt (line 10))\n",
            "  Downloading setproctitle-1.3.2-cp310-cp310-manylinux_2_5_x86_64.manylinux1_x86_64.manylinux_2_17_x86_64.manylinux2014_x86_64.whl (30 kB)\n",
            "Requirement already satisfied: setuptools in /usr/local/lib/python3.10/dist-packages (from wandb->-r requirements.txt (line 10)) (67.7.2)\n",
            "Requirement already satisfied: appdirs>=1.4.3 in /usr/local/lib/python3.10/dist-packages (from wandb->-r requirements.txt (line 10)) (1.4.4)\n",
            "Requirement already satisfied: protobuf!=4.21.0,<5,>=3.19.0 in /usr/local/lib/python3.10/dist-packages (from wandb->-r requirements.txt (line 10)) (3.20.3)\n",
            "Requirement already satisfied: ipykernel>=4.5.1 in /usr/local/lib/python3.10/dist-packages (from ipywidgets->-r requirements.txt (line 11)) (5.5.6)\n",
            "Requirement already satisfied: ipython-genutils~=0.2.0 in /usr/local/lib/python3.10/dist-packages (from ipywidgets->-r requirements.txt (line 11)) (0.2.0)\n",
            "Requirement already satisfied: widgetsnbextension~=3.6.0 in /usr/local/lib/python3.10/dist-packages (from ipywidgets->-r requirements.txt (line 11)) (3.6.4)\n",
            "Requirement already satisfied: ipython>=4.0.0 in /usr/local/lib/python3.10/dist-packages (from ipywidgets->-r requirements.txt (line 11)) (7.34.0)\n",
            "Requirement already satisfied: jupyterlab-widgets>=1.0.0 in /usr/local/lib/python3.10/dist-packages (from ipywidgets->-r requirements.txt (line 11)) (3.0.8)\n",
            "Requirement already satisfied: tenacity>=6.2.0 in /usr/local/lib/python3.10/dist-packages (from plotly->-r requirements.txt (line 12)) (8.2.2)\n",
            "Requirement already satisfied: numba>=0.49 in /usr/local/lib/python3.10/dist-packages (from umap-learn->-r requirements.txt (line 15)) (0.56.4)\n",
            "Collecting pynndescent>=0.5 (from umap-learn->-r requirements.txt (line 15))\n",
            "  Downloading pynndescent-0.5.10.tar.gz (1.1 MB)\n",
            "\u001b[2K     \u001b[90m━━━━━━━━━━━━━━━━━━━━━━━━━━━━━━━━━━━━━━━━\u001b[0m \u001b[32m1.1/1.1 MB\u001b[0m \u001b[31m44.8 MB/s\u001b[0m eta \u001b[36m0:00:00\u001b[0m\n",
            "\u001b[?25h  Preparing metadata (setup.py) ... \u001b[?25l\u001b[?25hdone\n",
            "Requirement already satisfied: cython>=0.27 in /usr/local/lib/python3.10/dist-packages (from hdbscan->-r requirements.txt (line 16)) (0.29.36)\n",
            "Requirement already satisfied: matplotlib!=3.6.1,>=3.1 in /usr/local/lib/python3.10/dist-packages (from seaborn->-r requirements.txt (line 17)) (3.7.1)\n",
            "Requirement already satisfied: pyerfa>=2.0 in /usr/local/lib/python3.10/dist-packages (from astropy>=5.0.1->sunpy->-r requirements.txt (line 8)) (2.0.0.3)\n",
            "Requirement already satisfied: soupsieve>1.2 in /usr/local/lib/python3.10/dist-packages (from beautifulsoup4<6.0,>=4.8.0->lightning->-r requirements.txt (line 6)) (2.4.1)\n",
            "Collecting ordered-set<4.2.0,>=4.0.2 (from deepdiff<8.0,>=5.7.0->lightning->-r requirements.txt (line 6))\n",
            "  Downloading ordered_set-4.1.0-py3-none-any.whl (7.6 kB)\n",
            "Collecting starlette (from lightning->-r requirements.txt (line 6))\n",
            "  Downloading starlette-0.27.0-py3-none-any.whl (66 kB)\n",
            "\u001b[2K     \u001b[90m━━━━━━━━━━━━━━━━━━━━━━━━━━━━━━━━━━━━━━━━\u001b[0m \u001b[32m67.0/67.0 kB\u001b[0m \u001b[31m10.1 MB/s\u001b[0m eta \u001b[36m0:00:00\u001b[0m\n",
            "\u001b[?25hRequirement already satisfied: aiohttp!=4.0.0a0,!=4.0.0a1 in /usr/local/lib/python3.10/dist-packages (from fsspec<2025.0,>=2022.5.0->lightning->-r requirements.txt (line 6)) (3.8.4)\n",
            "Collecting gitdb<5,>=4.0.1 (from GitPython!=3.1.29,>=1.0.0->wandb->-r requirements.txt (line 10))\n",
            "  Downloading gitdb-4.0.10-py3-none-any.whl (62 kB)\n",
            "\u001b[2K     \u001b[90m━━━━━━━━━━━━━━━━━━━━━━━━━━━━━━━━━━━━━━━━\u001b[0m \u001b[32m62.7/62.7 kB\u001b[0m \u001b[31m7.9 MB/s\u001b[0m eta \u001b[36m0:00:00\u001b[0m\n",
            "\u001b[?25hCollecting omegaconf<2.4,>=2.2 (from hydra-core>=1.0.0->lightly->-r requirements.txt (line 7))\n",
            "  Downloading omegaconf-2.3.0-py3-none-any.whl (79 kB)\n",
            "\u001b[2K     \u001b[90m━━━━━━━━━━━━━━━━━━━━━━━━━━━━━━━━━━━━━━━━\u001b[0m \u001b[32m79.5/79.5 kB\u001b[0m \u001b[31m10.2 MB/s\u001b[0m eta \u001b[36m0:00:00\u001b[0m\n",
            "\u001b[?25hCollecting antlr4-python3-runtime==4.9.* (from hydra-core>=1.0.0->lightly->-r requirements.txt (line 7))\n",
            "  Downloading antlr4-python3-runtime-4.9.3.tar.gz (117 kB)\n",
            "\u001b[2K     \u001b[90m━━━━━━━━━━━━━━━━━━━━━━━━━━━━━━━━━━━━━━\u001b[0m \u001b[32m117.0/117.0 kB\u001b[0m \u001b[31m16.7 MB/s\u001b[0m eta \u001b[36m0:00:00\u001b[0m\n",
            "\u001b[?25h  Preparing metadata (setup.py) ... \u001b[?25l\u001b[?25hdone\n",
            "Collecting blessed>=1.19.0 (from inquirer<5.0,>=2.10.0->lightning->-r requirements.txt (line 6))\n",
            "  Downloading blessed-1.20.0-py2.py3-none-any.whl (58 kB)\n",
            "\u001b[2K     \u001b[90m━━━━━━━━━━━━━━━━━━━━━━━━━━━━━━━━━━━━━━━━\u001b[0m \u001b[32m58.4/58.4 kB\u001b[0m \u001b[31m8.3 MB/s\u001b[0m eta \u001b[36m0:00:00\u001b[0m\n",
            "\u001b[?25hCollecting python-editor>=1.0.4 (from inquirer<5.0,>=2.10.0->lightning->-r requirements.txt (line 6))\n",
            "  Downloading python_editor-1.0.4-py3-none-any.whl (4.9 kB)\n",
            "Collecting readchar>=3.0.6 (from inquirer<5.0,>=2.10.0->lightning->-r requirements.txt (line 6))\n",
            "  Downloading readchar-4.0.5-py3-none-any.whl (8.5 kB)\n",
            "Requirement already satisfied: jupyter-client in /usr/local/lib/python3.10/dist-packages (from ipykernel>=4.5.1->ipywidgets->-r requirements.txt (line 11)) (6.1.12)\n",
            "Requirement already satisfied: tornado>=4.2 in /usr/local/lib/python3.10/dist-packages (from ipykernel>=4.5.1->ipywidgets->-r requirements.txt (line 11)) (6.3.1)\n",
            "Collecting jedi>=0.16 (from ipython>=4.0.0->ipywidgets->-r requirements.txt (line 11))\n",
            "  Downloading jedi-0.18.2-py2.py3-none-any.whl (1.6 MB)\n",
            "\u001b[2K     \u001b[90m━━━━━━━━━━━━━━━━━━━━━━━━━━━━━━━━━━━━━━━━\u001b[0m \u001b[32m1.6/1.6 MB\u001b[0m \u001b[31m91.6 MB/s\u001b[0m eta \u001b[36m0:00:00\u001b[0m\n",
            "\u001b[?25hRequirement already satisfied: decorator in /usr/local/lib/python3.10/dist-packages (from ipython>=4.0.0->ipywidgets->-r requirements.txt (line 11)) (4.4.2)\n",
            "Requirement already satisfied: pickleshare in /usr/local/lib/python3.10/dist-packages (from ipython>=4.0.0->ipywidgets->-r requirements.txt (line 11)) (0.7.5)\n",
            "Requirement already satisfied: prompt-toolkit!=3.0.0,!=3.0.1,<3.1.0,>=2.0.0 in /usr/local/lib/python3.10/dist-packages (from ipython>=4.0.0->ipywidgets->-r requirements.txt (line 11)) (3.0.39)\n",
            "Requirement already satisfied: pygments in /usr/local/lib/python3.10/dist-packages (from ipython>=4.0.0->ipywidgets->-r requirements.txt (line 11)) (2.14.0)\n",
            "Requirement already satisfied: backcall in /usr/local/lib/python3.10/dist-packages (from ipython>=4.0.0->ipywidgets->-r requirements.txt (line 11)) (0.2.0)\n",
            "Requirement already satisfied: matplotlib-inline in /usr/local/lib/python3.10/dist-packages (from ipython>=4.0.0->ipywidgets->-r requirements.txt (line 11)) (0.1.6)\n",
            "Requirement already satisfied: pexpect>4.3 in /usr/local/lib/python3.10/dist-packages (from ipython>=4.0.0->ipywidgets->-r requirements.txt (line 11)) (4.8.0)\n",
            "Requirement already satisfied: MarkupSafe>=2.0 in /usr/local/lib/python3.10/dist-packages (from Jinja2<5.0->lightning->-r requirements.txt (line 6)) (2.1.3)\n",
            "Requirement already satisfied: Pillow in /usr/local/lib/python3.10/dist-packages (from lightly-utils~=0.0.0->lightly->-r requirements.txt (line 7)) (8.4.0)\n",
            "Collecting pyjwt (from lightning-cloud>=0.5.37->lightning->-r requirements.txt (line 6))\n",
            "  Downloading PyJWT-2.7.0-py3-none-any.whl (22 kB)\n",
            "Requirement already satisfied: contourpy>=1.0.1 in /usr/local/lib/python3.10/dist-packages (from matplotlib!=3.6.1,>=3.1->seaborn->-r requirements.txt (line 17)) (1.1.0)\n",
            "Requirement already satisfied: cycler>=0.10 in /usr/local/lib/python3.10/dist-packages (from matplotlib!=3.6.1,>=3.1->seaborn->-r requirements.txt (line 17)) (0.11.0)\n",
            "Requirement already satisfied: fonttools>=4.22.0 in /usr/local/lib/python3.10/dist-packages (from matplotlib!=3.6.1,>=3.1->seaborn->-r requirements.txt (line 17)) (4.40.0)\n",
            "Requirement already satisfied: kiwisolver>=1.0.1 in /usr/local/lib/python3.10/dist-packages (from matplotlib!=3.6.1,>=3.1->seaborn->-r requirements.txt (line 17)) (1.4.4)\n",
            "Requirement already satisfied: pyparsing>=2.3.1 in /usr/local/lib/python3.10/dist-packages (from matplotlib!=3.6.1,>=3.1->seaborn->-r requirements.txt (line 17)) (3.1.0)\n",
            "Requirement already satisfied: llvmlite<0.40,>=0.39.0dev0 in /usr/local/lib/python3.10/dist-packages (from numba>=0.49->umap-learn->-r requirements.txt (line 15)) (0.39.1)\n",
            "Collecting aioftp>=0.17.1 (from parfive[ftp]>=2.0.0->sunpy->-r requirements.txt (line 8))\n",
            "  Downloading aioftp-0.21.4-py3-none-any.whl (37 kB)\n",
            "Requirement already satisfied: charset-normalizer~=2.0.0 in /usr/local/lib/python3.10/dist-packages (from requests<4.0->lightning->-r requirements.txt (line 6)) (2.0.12)\n",
            "Requirement already satisfied: idna<4,>=2.5 in /usr/local/lib/python3.10/dist-packages (from requests<4.0->lightning->-r requirements.txt (line 6)) (3.4)\n",
            "Requirement already satisfied: markdown-it-py>=2.2.0 in /usr/local/lib/python3.10/dist-packages (from rich<15.0,>=12.3.0->lightning->-r requirements.txt (line 6)) (3.0.0)\n",
            "Requirement already satisfied: anyio<5,>=3.4.0 in /usr/local/lib/python3.10/dist-packages (from starlette->lightning->-r requirements.txt (line 6)) (3.7.1)\n",
            "Requirement already satisfied: itsdangerous<3.0.0,>=2.0.1 in /usr/local/lib/python3.10/dist-packages (from starsessions<2.0,>=1.2.1->lightning->-r requirements.txt (line 6)) (2.1.2)\n",
            "Requirement already satisfied: filelock in /usr/local/lib/python3.10/dist-packages (from torch<4.0,>=1.11.0->lightning->-r requirements.txt (line 6)) (3.12.2)\n",
            "Requirement already satisfied: sympy in /usr/local/lib/python3.10/dist-packages (from torch<4.0,>=1.11.0->lightning->-r requirements.txt (line 6)) (1.11.1)\n",
            "Requirement already satisfied: networkx in /usr/local/lib/python3.10/dist-packages (from torch<4.0,>=1.11.0->lightning->-r requirements.txt (line 6)) (3.1)\n",
            "Requirement already satisfied: triton==2.0.0 in /usr/local/lib/python3.10/dist-packages (from torch<4.0,>=1.11.0->lightning->-r requirements.txt (line 6)) (2.0.0)\n",
            "Requirement already satisfied: cmake in /usr/local/lib/python3.10/dist-packages (from triton==2.0.0->torch<4.0,>=1.11.0->lightning->-r requirements.txt (line 6)) (3.25.2)\n",
            "Requirement already satisfied: lit in /usr/local/lib/python3.10/dist-packages (from triton==2.0.0->torch<4.0,>=1.11.0->lightning->-r requirements.txt (line 6)) (16.0.6)\n",
            "Collecting h11>=0.8 (from uvicorn<2.0->lightning->-r requirements.txt (line 6))\n",
            "  Downloading h11-0.14.0-py3-none-any.whl (58 kB)\n",
            "\u001b[2K     \u001b[90m━━━━━━━━━━━━━━━━━━━━━━━━━━━━━━━━━━━━━━━━\u001b[0m \u001b[32m58.3/58.3 kB\u001b[0m \u001b[31m7.6 MB/s\u001b[0m eta \u001b[36m0:00:00\u001b[0m\n",
            "\u001b[?25hRequirement already satisfied: notebook>=4.4.1 in /usr/local/lib/python3.10/dist-packages (from widgetsnbextension~=3.6.0->ipywidgets->-r requirements.txt (line 11)) (6.4.8)\n",
            "Requirement already satisfied: attrs>=17.3.0 in /usr/local/lib/python3.10/dist-packages (from aiohttp!=4.0.0a0,!=4.0.0a1->fsspec<2025.0,>=2022.5.0->lightning->-r requirements.txt (line 6)) (23.1.0)\n",
            "Requirement already satisfied: multidict<7.0,>=4.5 in /usr/local/lib/python3.10/dist-packages (from aiohttp!=4.0.0a0,!=4.0.0a1->fsspec<2025.0,>=2022.5.0->lightning->-r requirements.txt (line 6)) (6.0.4)\n",
            "Requirement already satisfied: async-timeout<5.0,>=4.0.0a3 in /usr/local/lib/python3.10/dist-packages (from aiohttp!=4.0.0a0,!=4.0.0a1->fsspec<2025.0,>=2022.5.0->lightning->-r requirements.txt (line 6)) (4.0.2)\n",
            "Requirement already satisfied: yarl<2.0,>=1.0 in /usr/local/lib/python3.10/dist-packages (from aiohttp!=4.0.0a0,!=4.0.0a1->fsspec<2025.0,>=2022.5.0->lightning->-r requirements.txt (line 6)) (1.9.2)\n",
            "Requirement already satisfied: frozenlist>=1.1.1 in /usr/local/lib/python3.10/dist-packages (from aiohttp!=4.0.0a0,!=4.0.0a1->fsspec<2025.0,>=2022.5.0->lightning->-r requirements.txt (line 6)) (1.3.3)\n",
            "Requirement already satisfied: aiosignal>=1.1.2 in /usr/local/lib/python3.10/dist-packages (from aiohttp!=4.0.0a0,!=4.0.0a1->fsspec<2025.0,>=2022.5.0->lightning->-r requirements.txt (line 6)) (1.3.1)\n",
            "Requirement already satisfied: sniffio>=1.1 in /usr/local/lib/python3.10/dist-packages (from anyio<5,>=3.4.0->starlette->lightning->-r requirements.txt (line 6)) (1.3.0)\n",
            "Requirement already satisfied: exceptiongroup in /usr/local/lib/python3.10/dist-packages (from anyio<5,>=3.4.0->starlette->lightning->-r requirements.txt (line 6)) (1.1.2)\n",
            "Requirement already satisfied: wcwidth>=0.1.4 in /usr/local/lib/python3.10/dist-packages (from blessed>=1.19.0->inquirer<5.0,>=2.10.0->lightning->-r requirements.txt (line 6)) (0.2.6)\n",
            "Collecting smmap<6,>=3.0.1 (from gitdb<5,>=4.0.1->GitPython!=3.1.29,>=1.0.0->wandb->-r requirements.txt (line 10))\n",
            "  Downloading smmap-5.0.0-py3-none-any.whl (24 kB)\n",
            "Requirement already satisfied: parso<0.9.0,>=0.8.0 in /usr/local/lib/python3.10/dist-packages (from jedi>=0.16->ipython>=4.0.0->ipywidgets->-r requirements.txt (line 11)) (0.8.3)\n",
            "Requirement already satisfied: mdurl~=0.1 in /usr/local/lib/python3.10/dist-packages (from markdown-it-py>=2.2.0->rich<15.0,>=12.3.0->lightning->-r requirements.txt (line 6)) (0.1.2)\n",
            "Requirement already satisfied: pyzmq>=17 in /usr/local/lib/python3.10/dist-packages (from notebook>=4.4.1->widgetsnbextension~=3.6.0->ipywidgets->-r requirements.txt (line 11)) (23.2.1)\n",
            "Requirement already satisfied: argon2-cffi in /usr/local/lib/python3.10/dist-packages (from notebook>=4.4.1->widgetsnbextension~=3.6.0->ipywidgets->-r requirements.txt (line 11)) (21.3.0)\n",
            "Requirement already satisfied: jupyter-core>=4.6.1 in /usr/local/lib/python3.10/dist-packages (from notebook>=4.4.1->widgetsnbextension~=3.6.0->ipywidgets->-r requirements.txt (line 11)) (5.3.1)\n",
            "Requirement already satisfied: nbformat in /usr/local/lib/python3.10/dist-packages (from notebook>=4.4.1->widgetsnbextension~=3.6.0->ipywidgets->-r requirements.txt (line 11)) (5.9.1)\n",
            "Requirement already satisfied: nbconvert in /usr/local/lib/python3.10/dist-packages (from notebook>=4.4.1->widgetsnbextension~=3.6.0->ipywidgets->-r requirements.txt (line 11)) (6.5.4)\n",
            "Requirement already satisfied: nest-asyncio>=1.5 in /usr/local/lib/python3.10/dist-packages (from notebook>=4.4.1->widgetsnbextension~=3.6.0->ipywidgets->-r requirements.txt (line 11)) (1.5.6)\n",
            "Requirement already satisfied: Send2Trash>=1.8.0 in /usr/local/lib/python3.10/dist-packages (from notebook>=4.4.1->widgetsnbextension~=3.6.0->ipywidgets->-r requirements.txt (line 11)) (1.8.2)\n",
            "Requirement already satisfied: terminado>=0.8.3 in /usr/local/lib/python3.10/dist-packages (from notebook>=4.4.1->widgetsnbextension~=3.6.0->ipywidgets->-r requirements.txt (line 11)) (0.17.1)\n",
            "Requirement already satisfied: prometheus-client in /usr/local/lib/python3.10/dist-packages (from notebook>=4.4.1->widgetsnbextension~=3.6.0->ipywidgets->-r requirements.txt (line 11)) (0.17.1)\n",
            "Requirement already satisfied: ptyprocess>=0.5 in /usr/local/lib/python3.10/dist-packages (from pexpect>4.3->ipython>=4.0.0->ipywidgets->-r requirements.txt (line 11)) (0.7.0)\n",
            "Requirement already satisfied: mpmath>=0.19 in /usr/local/lib/python3.10/dist-packages (from sympy->torch<4.0,>=1.11.0->lightning->-r requirements.txt (line 6)) (1.3.0)\n",
            "Requirement already satisfied: platformdirs>=2.5 in /usr/local/lib/python3.10/dist-packages (from jupyter-core>=4.6.1->notebook>=4.4.1->widgetsnbextension~=3.6.0->ipywidgets->-r requirements.txt (line 11)) (3.8.1)\n",
            "Requirement already satisfied: argon2-cffi-bindings in /usr/local/lib/python3.10/dist-packages (from argon2-cffi->notebook>=4.4.1->widgetsnbextension~=3.6.0->ipywidgets->-r requirements.txt (line 11)) (21.2.0)\n",
            "Requirement already satisfied: lxml in /usr/local/lib/python3.10/dist-packages (from nbconvert->notebook>=4.4.1->widgetsnbextension~=3.6.0->ipywidgets->-r requirements.txt (line 11)) (4.9.3)\n",
            "Requirement already satisfied: bleach in /usr/local/lib/python3.10/dist-packages (from nbconvert->notebook>=4.4.1->widgetsnbextension~=3.6.0->ipywidgets->-r requirements.txt (line 11)) (6.0.0)\n",
            "Requirement already satisfied: defusedxml in /usr/local/lib/python3.10/dist-packages (from nbconvert->notebook>=4.4.1->widgetsnbextension~=3.6.0->ipywidgets->-r requirements.txt (line 11)) (0.7.1)\n",
            "Requirement already satisfied: entrypoints>=0.2.2 in /usr/local/lib/python3.10/dist-packages (from nbconvert->notebook>=4.4.1->widgetsnbextension~=3.6.0->ipywidgets->-r requirements.txt (line 11)) (0.4)\n",
            "Requirement already satisfied: jupyterlab-pygments in /usr/local/lib/python3.10/dist-packages (from nbconvert->notebook>=4.4.1->widgetsnbextension~=3.6.0->ipywidgets->-r requirements.txt (line 11)) (0.2.2)\n",
            "Requirement already satisfied: mistune<2,>=0.8.1 in /usr/local/lib/python3.10/dist-packages (from nbconvert->notebook>=4.4.1->widgetsnbextension~=3.6.0->ipywidgets->-r requirements.txt (line 11)) (0.8.4)\n",
            "Requirement already satisfied: nbclient>=0.5.0 in /usr/local/lib/python3.10/dist-packages (from nbconvert->notebook>=4.4.1->widgetsnbextension~=3.6.0->ipywidgets->-r requirements.txt (line 11)) (0.8.0)\n",
            "Requirement already satisfied: pandocfilters>=1.4.1 in /usr/local/lib/python3.10/dist-packages (from nbconvert->notebook>=4.4.1->widgetsnbextension~=3.6.0->ipywidgets->-r requirements.txt (line 11)) (1.5.0)\n",
            "Requirement already satisfied: tinycss2 in /usr/local/lib/python3.10/dist-packages (from nbconvert->notebook>=4.4.1->widgetsnbextension~=3.6.0->ipywidgets->-r requirements.txt (line 11)) (1.2.1)\n",
            "Requirement already satisfied: fastjsonschema in /usr/local/lib/python3.10/dist-packages (from nbformat->notebook>=4.4.1->widgetsnbextension~=3.6.0->ipywidgets->-r requirements.txt (line 11)) (2.17.1)\n",
            "Requirement already satisfied: jsonschema>=2.6 in /usr/local/lib/python3.10/dist-packages (from nbformat->notebook>=4.4.1->widgetsnbextension~=3.6.0->ipywidgets->-r requirements.txt (line 11)) (4.3.3)\n",
            "Requirement already satisfied: pyrsistent!=0.17.0,!=0.17.1,!=0.17.2,>=0.14.0 in /usr/local/lib/python3.10/dist-packages (from jsonschema>=2.6->nbformat->notebook>=4.4.1->widgetsnbextension~=3.6.0->ipywidgets->-r requirements.txt (line 11)) (0.19.3)\n",
            "Requirement already satisfied: cffi>=1.0.1 in /usr/local/lib/python3.10/dist-packages (from argon2-cffi-bindings->argon2-cffi->notebook>=4.4.1->widgetsnbextension~=3.6.0->ipywidgets->-r requirements.txt (line 11)) (1.15.1)\n",
            "Requirement already satisfied: webencodings in /usr/local/lib/python3.10/dist-packages (from bleach->nbconvert->notebook>=4.4.1->widgetsnbextension~=3.6.0->ipywidgets->-r requirements.txt (line 11)) (0.5.1)\n",
            "Requirement already satisfied: pycparser in /usr/local/lib/python3.10/dist-packages (from cffi>=1.0.1->argon2-cffi-bindings->argon2-cffi->notebook>=4.4.1->widgetsnbextension~=3.6.0->ipywidgets->-r requirements.txt (line 11)) (2.21)\n",
            "Building wheels for collected packages: umap-learn, hdbscan, hits-sdo-packager, antlr4-python3-runtime, pynndescent, pathtools\n",
            "  Building wheel for umap-learn (setup.py) ... \u001b[?25l\u001b[?25hdone\n",
            "  Created wheel for umap-learn: filename=umap_learn-0.5.3-py3-none-any.whl size=82816 sha256=147fa83180f9990cc367959ff0dc2859515ddc8017ecde7d898cbcceb181cd91\n",
            "  Stored in directory: /root/.cache/pip/wheels/a0/e8/c6/a37ea663620bd5200ea1ba0907ab3c217042c1d035ef606acc\n",
            "  Building wheel for hdbscan (pyproject.toml) ... \u001b[?25l\u001b[?25hdone\n",
            "  Created wheel for hdbscan: filename=hdbscan-0.8.30-cp310-cp310-linux_x86_64.whl size=3543436 sha256=5be6f6594ae564d2c8e52fc5473721ae59e1d795a90a4258c67bcd5270006659\n",
            "  Stored in directory: /root/.cache/pip/wheels/d3/0d/80/d2146d1c4957154f57f01ce239c1d107e26a001c9bb9c2d47b\n",
            "  Building wheel for hits-sdo-packager (setup.py) ... \u001b[?25l\u001b[?25hdone\n",
            "  Created wheel for hits-sdo-packager: filename=hits_sdo_packager-0.1.0-py3-none-any.whl size=11283 sha256=d3ae6b2c7c14aafc9ca57eef560c2dde0d35975b30fc2527f3e2aa2e69b34e37\n",
            "  Stored in directory: /tmp/pip-ephem-wheel-cache-noyz9_5l/wheels/2e/eb/6a/bd29fa0f13c312509ef59785fdf5297327b72cf53190878e91\n",
            "  Building wheel for antlr4-python3-runtime (setup.py) ... \u001b[?25l\u001b[?25hdone\n",
            "  Created wheel for antlr4-python3-runtime: filename=antlr4_python3_runtime-4.9.3-py3-none-any.whl size=144554 sha256=536feb6d25e02e3b1decadd7050444f12029bd1644fcae9555508def94aff2a7\n",
            "  Stored in directory: /root/.cache/pip/wheels/12/93/dd/1f6a127edc45659556564c5730f6d4e300888f4bca2d4c5a88\n",
            "  Building wheel for pynndescent (setup.py) ... \u001b[?25l\u001b[?25hdone\n",
            "  Created wheel for pynndescent: filename=pynndescent-0.5.10-py3-none-any.whl size=55622 sha256=f0d31136344ae4b90afc052c278c8bfbffe39cef78201b483c86ce7867fabe94\n",
            "  Stored in directory: /root/.cache/pip/wheels/4a/38/5d/f60a40a66a9512b7e5e83517ebc2d1b42d857be97d135f1096\n",
            "  Building wheel for pathtools (setup.py) ... \u001b[?25l\u001b[?25hdone\n",
            "  Created wheel for pathtools: filename=pathtools-0.1.2-py3-none-any.whl size=8791 sha256=f9d9f57ef4db861ee16e1836bb886152d9ddfbaec54985759d3d8da57671e6e5\n",
            "  Stored in directory: /root/.cache/pip/wheels/e7/f3/22/152153d6eb222ee7a56ff8617d80ee5207207a8c00a7aab794\n",
            "Successfully built umap-learn hdbscan hits-sdo-packager antlr4-python3-runtime pynndescent pathtools\n",
            "Installing collected packages: python-editor, pathtools, antlr4-python3-runtime, aenum, websockets, smmap, setproctitle, sentry-sdk, readchar, python-multipart, pyjwt, ordered-set, omegaconf, lightning-utilities, lightly-utils, jedi, hits-sdo-packager, h11, docker-pycreds, blessed, backoff, aioftp, uvicorn, starlette, inquirer, hydra-core, gitdb, deepdiff, dateutils, croniter, arrow, starsessions, pynndescent, parfive, hdbscan, GitPython, fastapi, wandb, umap-learn, lightning-cloud, sunpy, torchmetrics, pytorch-lightning, lightning, lightly\n",
            "Successfully installed GitPython-3.1.32 aenum-3.1.15 aioftp-0.21.4 antlr4-python3-runtime-4.9.3 arrow-1.2.3 backoff-2.2.1 blessed-1.20.0 croniter-1.4.1 dateutils-0.6.12 deepdiff-6.3.1 docker-pycreds-0.4.0 fastapi-0.100.0 gitdb-4.0.10 h11-0.14.0 hdbscan-0.8.30 hits-sdo-packager-0.1.0 hydra-core-1.3.2 inquirer-3.1.3 jedi-0.18.2 lightly-1.4.12 lightly-utils-0.0.2 lightning-2.0.5 lightning-cloud-0.5.37 lightning-utilities-0.9.0 omegaconf-2.3.0 ordered-set-4.1.0 parfive-2.0.2 pathtools-0.1.2 pyjwt-2.7.0 pynndescent-0.5.10 python-editor-1.0.4 python-multipart-0.0.6 pytorch-lightning-2.0.5 readchar-4.0.5 sentry-sdk-1.28.1 setproctitle-1.3.2 smmap-5.0.0 starlette-0.27.0 starsessions-1.3.0 sunpy-5.0.0 torchmetrics-1.0.1 umap-learn-0.5.3 uvicorn-0.23.0 wandb-0.15.5 websockets-11.0.3\n"
          ]
        },
        {
          "output_type": "display_data",
          "data": {
            "application/vnd.colab-display-data+json": {
              "pip_warning": {
                "packages": [
                  "pydevd_plugins"
                ]
              }
            }
          },
          "metadata": {}
        }
      ],
      "source": [
        "!pip install -q -r requirements.txt"
      ]
    },
    {
      "cell_type": "code",
      "source": [
        "!pip install -q -r requirements_cuml.txt"
      ],
      "metadata": {
        "id": "XsAaEKtCSUX8",
        "outputId": "effd2ea8-17d6-4e6b-f55d-80d3f4c5ccc5",
        "colab": {
          "base_uri": "https://localhost:8080/"
        }
      },
      "execution_count": 10,
      "outputs": [
        {
          "output_type": "stream",
          "name": "stdout",
          "text": [
            "Looking in indexes: https://pypi.org/simple, https://pypi.nvidia.com\n",
            "Collecting pyarrow (from -r requirements_cuml.txt (line 7))\n",
            "  Downloading pyarrow-12.0.1-cp310-cp310-manylinux_2_17_x86_64.manylinux2014_x86_64.whl (38.9 MB)\n",
            "\u001b[2K     \u001b[90m━━━━━━━━━━━━━━━━━━━━━━━━━━━━━━━━━━━━━━━━\u001b[0m \u001b[32m38.9/38.9 MB\u001b[0m \u001b[31m29.3 MB/s\u001b[0m eta \u001b[36m0:00:00\u001b[0m\n",
            "\u001b[?25hCollecting pandas-gbq (from -r requirements_cuml.txt (line 8))\n",
            "  Downloading pandas_gbq-0.19.2-py2.py3-none-any.whl (25 kB)\n",
            "Collecting cupy-cuda11x (from -r requirements_cuml.txt (line 9))\n",
            "  Downloading cupy_cuda11x-12.1.0-cp310-cp310-manylinux2014_x86_64.whl (89.3 MB)\n",
            "\u001b[2K     \u001b[90m━━━━━━━━━━━━━━━━━━━━━━━━━━━━━━━━━━━━━━━━\u001b[0m \u001b[32m89.3/89.3 MB\u001b[0m \u001b[31m17.4 MB/s\u001b[0m eta \u001b[36m0:00:00\u001b[0m\n",
            "\u001b[?25hCollecting cudf-cu11 (from -r requirements_cuml.txt (line 10))\n",
            "  Downloading https://pypi.nvidia.com/cudf-cu11/cudf_cu11-23.6.1-cp310-cp310-manylinux_2_17_x86_64.manylinux2014_x86_64.whl (489.3 MB)\n",
            "\u001b[2K     \u001b[90m━━━━━━━━━━━━━━━━━━━━━━━━━━━━━━━━━━━━━━━\u001b[0m \u001b[32m489.3/489.3 MB\u001b[0m \u001b[31m2.6 MB/s\u001b[0m eta \u001b[36m0:00:00\u001b[0m\n",
            "\u001b[?25hCollecting cuml-cu11 (from -r requirements_cuml.txt (line 11))\n",
            "  Downloading https://pypi.nvidia.com/cuml-cu11/cuml_cu11-23.6.0-cp310-cp310-manylinux_2_17_x86_64.manylinux2014_x86_64.whl (1079.0 MB)\n",
            "\u001b[2K     \u001b[90m━━━━━━━━━━━━━━━━━━━━━━━━━━━━━━━━━━━━━━━━\u001b[0m \u001b[32m1.1/1.1 GB\u001b[0m \u001b[31m1.7 MB/s\u001b[0m eta \u001b[36m0:00:00\u001b[0m\n",
            "\u001b[?25hRequirement already satisfied: numpy>=1.16.6 in /usr/local/lib/python3.10/dist-packages (from pyarrow->-r requirements_cuml.txt (line 7)) (1.22.4)\n",
            "Requirement already satisfied: setuptools in /usr/local/lib/python3.10/dist-packages (from pandas-gbq->-r requirements_cuml.txt (line 8)) (67.7.2)\n",
            "Requirement already satisfied: db-dtypes<2.0.0,>=1.0.4 in /usr/local/lib/python3.10/dist-packages (from pandas-gbq->-r requirements_cuml.txt (line 8)) (1.1.1)\n",
            "Requirement already satisfied: pandas>=1.1.4 in /usr/local/lib/python3.10/dist-packages (from pandas-gbq->-r requirements_cuml.txt (line 8)) (1.5.3)\n",
            "Requirement already satisfied: pydata-google-auth>=1.5.0 in /usr/local/lib/python3.10/dist-packages (from pandas-gbq->-r requirements_cuml.txt (line 8)) (1.8.1)\n",
            "Requirement already satisfied: google-api-core<3.0.0dev,>=2.10.2 in /usr/local/lib/python3.10/dist-packages (from pandas-gbq->-r requirements_cuml.txt (line 8)) (2.11.1)\n",
            "Requirement already satisfied: google-auth>=2.13.0 in /usr/local/lib/python3.10/dist-packages (from pandas-gbq->-r requirements_cuml.txt (line 8)) (2.17.3)\n",
            "Requirement already satisfied: google-auth-oauthlib>=0.7.0 in /usr/local/lib/python3.10/dist-packages (from pandas-gbq->-r requirements_cuml.txt (line 8)) (1.0.0)\n",
            "Requirement already satisfied: google-cloud-bigquery!=2.4.*,<4.0.0dev,>=3.3.5 in /usr/local/lib/python3.10/dist-packages (from pandas-gbq->-r requirements_cuml.txt (line 8)) (3.10.0)\n",
            "Requirement already satisfied: google-cloud-bigquery-storage<3.0.0dev,>=2.16.2 in /usr/local/lib/python3.10/dist-packages (from pandas-gbq->-r requirements_cuml.txt (line 8)) (2.22.0)\n",
            "Requirement already satisfied: fastrlock>=0.5 in /usr/local/lib/python3.10/dist-packages (from cupy-cuda11x->-r requirements_cuml.txt (line 9)) (0.8.1)\n",
            "Requirement already satisfied: cachetools in /usr/local/lib/python3.10/dist-packages (from cudf-cu11->-r requirements_cuml.txt (line 10)) (5.3.1)\n",
            "Collecting cubinlinker-cu11 (from cudf-cu11->-r requirements_cuml.txt (line 10))\n",
            "  Downloading https://pypi.nvidia.com/cubinlinker-cu11/cubinlinker_cu11-0.3.0.post1-cp310-cp310-manylinux_2_17_x86_64.manylinux2014_x86_64.whl (8.8 MB)\n",
            "\u001b[2K     \u001b[90m━━━━━━━━━━━━━━━━━━━━━━━━━━━━━━━━━━━━━━━━\u001b[0m \u001b[32m8.8/8.8 MB\u001b[0m \u001b[31m100.3 MB/s\u001b[0m eta \u001b[36m0:00:00\u001b[0m\n",
            "\u001b[?25hCollecting cuda-python<12.0,>=11.7.1 (from cudf-cu11->-r requirements_cuml.txt (line 10))\n",
            "  Downloading cuda_python-11.8.2-cp310-cp310-manylinux_2_17_x86_64.manylinux2014_x86_64.whl (16.5 MB)\n",
            "\u001b[2K     \u001b[90m━━━━━━━━━━━━━━━━━━━━━━━━━━━━━━━━━━━━━━━━\u001b[0m \u001b[32m16.5/16.5 MB\u001b[0m \u001b[31m65.6 MB/s\u001b[0m eta \u001b[36m0:00:00\u001b[0m\n",
            "\u001b[?25hRequirement already satisfied: fsspec>=0.6.0 in /usr/local/lib/python3.10/dist-packages (from cudf-cu11->-r requirements_cuml.txt (line 10)) (2023.6.0)\n",
            "Collecting numba>=0.57 (from cudf-cu11->-r requirements_cuml.txt (line 10))\n",
            "  Downloading numba-0.57.1-cp310-cp310-manylinux2014_x86_64.manylinux_2_17_x86_64.whl (3.6 MB)\n",
            "\u001b[2K     \u001b[90m━━━━━━━━━━━━━━━━━━━━━━━━━━━━━━━━━━━━━━━━\u001b[0m \u001b[32m3.6/3.6 MB\u001b[0m \u001b[31m99.4 MB/s\u001b[0m eta \u001b[36m0:00:00\u001b[0m\n",
            "\u001b[?25hCollecting nvtx>=0.2.1 (from cudf-cu11->-r requirements_cuml.txt (line 10))\n",
            "  Downloading nvtx-0.2.5-cp310-cp310-manylinux_2_17_x86_64.manylinux2014_x86_64.whl (428 kB)\n",
            "\u001b[2K     \u001b[90m━━━━━━━━━━━━━━━━━━━━━━━━━━━━━━━━━━━━━━\u001b[0m \u001b[32m428.4/428.4 kB\u001b[0m \u001b[31m43.6 MB/s\u001b[0m eta \u001b[36m0:00:00\u001b[0m\n",
            "\u001b[?25hRequirement already satisfied: packaging in /usr/local/lib/python3.10/dist-packages (from cudf-cu11->-r requirements_cuml.txt (line 10)) (23.1)\n",
            "Collecting protobuf<4.22,>=4.21.6 (from cudf-cu11->-r requirements_cuml.txt (line 10))\n",
            "  Downloading protobuf-4.21.12-cp37-abi3-manylinux2014_x86_64.whl (409 kB)\n",
            "\u001b[2K     \u001b[90m━━━━━━━━━━━━━━━━━━━━━━━━━━━━━━━━━━━━━━\u001b[0m \u001b[32m409.8/409.8 kB\u001b[0m \u001b[31m43.8 MB/s\u001b[0m eta \u001b[36m0:00:00\u001b[0m\n",
            "\u001b[?25hCollecting ptxcompiler-cu11 (from cudf-cu11->-r requirements_cuml.txt (line 10))\n",
            "  Downloading https://pypi.nvidia.com/ptxcompiler-cu11/ptxcompiler_cu11-0.7.0.post1-cp310-cp310-manylinux_2_17_x86_64.manylinux2014_x86_64.whl (8.8 MB)\n",
            "\u001b[2K     \u001b[90m━━━━━━━━━━━━━━━━━━━━━━━━━━━━━━━━━━━━━━━━\u001b[0m \u001b[32m8.8/8.8 MB\u001b[0m \u001b[31m115.2 MB/s\u001b[0m eta \u001b[36m0:00:00\u001b[0m\n",
            "\u001b[?25hCollecting pyarrow (from -r requirements_cuml.txt (line 7))\n",
            "  Downloading pyarrow-11.0.0-cp310-cp310-manylinux_2_17_x86_64.manylinux2014_x86_64.whl (34.9 MB)\n",
            "\u001b[2K     \u001b[90m━━━━━━━━━━━━━━━━━━━━━━━━━━━━━━━━━━━━━━━━\u001b[0m \u001b[32m34.9/34.9 MB\u001b[0m \u001b[31m50.6 MB/s\u001b[0m eta \u001b[36m0:00:00\u001b[0m\n",
            "\u001b[?25hCollecting rmm-cu11==23.6.* (from cudf-cu11->-r requirements_cuml.txt (line 10))\n",
            "  Downloading https://pypi.nvidia.com/rmm-cu11/rmm_cu11-23.6.0-cp310-cp310-manylinux_2_17_x86_64.manylinux2014_x86_64.whl (1.7 MB)\n",
            "\u001b[2K     \u001b[90m━━━━━━━━━━━━━━━━━━━━━━━━━━━━━━━━━━━━━━━━\u001b[0m \u001b[32m1.7/1.7 MB\u001b[0m \u001b[31m79.7 MB/s\u001b[0m eta \u001b[36m0:00:00\u001b[0m\n",
            "\u001b[?25hRequirement already satisfied: typing-extensions>=4.0.0 in /usr/local/lib/python3.10/dist-packages (from cudf-cu11->-r requirements_cuml.txt (line 10)) (4.7.1)\n",
            "Collecting dask-cuda==23.6.* (from cuml-cu11->-r requirements_cuml.txt (line 11))\n",
            "  Downloading dask_cuda-23.6.0-py3-none-any.whl (125 kB)\n",
            "\u001b[2K     \u001b[90m━━━━━━━━━━━━━━━━━━━━━━━━━━━━━━━━━━━━━━\u001b[0m \u001b[32m125.2/125.2 kB\u001b[0m \u001b[31m17.8 MB/s\u001b[0m eta \u001b[36m0:00:00\u001b[0m\n",
            "\u001b[?25hCollecting dask-cudf-cu11==23.6.* (from cuml-cu11->-r requirements_cuml.txt (line 11))\n",
            "  Downloading https://pypi.nvidia.com/dask-cudf-cu11/dask_cudf_cu11-23.6.0-py3-none-any.whl (79 kB)\n",
            "\u001b[2K     \u001b[90m━━━━━━━━━━━━━━━━━━━━━━━━━━━━━━━━━━━━━━━━\u001b[0m \u001b[32m79.6/79.6 kB\u001b[0m \u001b[31m12.2 MB/s\u001b[0m eta \u001b[36m0:00:00\u001b[0m\n",
            "\u001b[?25hCollecting dask==2023.3.2 (from cuml-cu11->-r requirements_cuml.txt (line 11))\n",
            "  Downloading dask-2023.3.2-py3-none-any.whl (1.2 MB)\n",
            "\u001b[2K     \u001b[90m━━━━━━━━━━━━━━━━━━━━━━━━━━━━━━━━━━━━━━━━\u001b[0m \u001b[32m1.2/1.2 MB\u001b[0m \u001b[31m82.5 MB/s\u001b[0m eta \u001b[36m0:00:00\u001b[0m\n",
            "\u001b[?25hCollecting distributed==2023.3.2.1 (from cuml-cu11->-r requirements_cuml.txt (line 11))\n",
            "  Downloading distributed-2023.3.2.1-py3-none-any.whl (957 kB)\n",
            "\u001b[2K     \u001b[90m━━━━━━━━━━━━━━━━━━━━━━━━━━━━━━━━━━━━━━\u001b[0m \u001b[32m957.1/957.1 kB\u001b[0m \u001b[31m76.1 MB/s\u001b[0m eta \u001b[36m0:00:00\u001b[0m\n",
            "\u001b[?25hRequirement already satisfied: joblib>=0.11 in /usr/local/lib/python3.10/dist-packages (from cuml-cu11->-r requirements_cuml.txt (line 11)) (1.3.1)\n",
            "Collecting raft-dask-cu11==23.6.* (from cuml-cu11->-r requirements_cuml.txt (line 11))\n",
            "  Downloading https://pypi.nvidia.com/raft-dask-cu11/raft_dask_cu11-23.6.2-cp310-cp310-manylinux_2_17_x86_64.manylinux2014_x86_64.whl (214.7 MB)\n",
            "\u001b[2K     \u001b[90m━━━━━━━━━━━━━━━━━━━━━━━━━━━━━━━━━━━━━━━\u001b[0m \u001b[32m214.7/214.7 MB\u001b[0m \u001b[31m3.8 MB/s\u001b[0m eta \u001b[36m0:00:00\u001b[0m\n",
            "\u001b[?25hRequirement already satisfied: scipy in /usr/local/lib/python3.10/dist-packages (from cuml-cu11->-r requirements_cuml.txt (line 11)) (1.10.1)\n",
            "Collecting treelite==3.2.0 (from cuml-cu11->-r requirements_cuml.txt (line 11))\n",
            "  Downloading treelite-3.2.0-py3-none-manylinux2014_x86_64.whl (1.0 MB)\n",
            "\u001b[2K     \u001b[90m━━━━━━━━━━━━━━━━━━━━━━━━━━━━━━━━━━━━━━━━\u001b[0m \u001b[32m1.0/1.0 MB\u001b[0m \u001b[31m75.2 MB/s\u001b[0m eta \u001b[36m0:00:00\u001b[0m\n",
            "\u001b[?25hCollecting treelite-runtime==3.2.0 (from cuml-cu11->-r requirements_cuml.txt (line 11))\n",
            "  Downloading treelite_runtime-3.2.0-py3-none-manylinux2014_x86_64.whl (198 kB)\n",
            "\u001b[2K     \u001b[90m━━━━━━━━━━━━━━━━━━━━━━━━━━━━━━━━━━━━━━\u001b[0m \u001b[32m198.2/198.2 kB\u001b[0m \u001b[31m24.6 MB/s\u001b[0m eta \u001b[36m0:00:00\u001b[0m\n",
            "\u001b[?25hRequirement already satisfied: click>=7.0 in /usr/local/lib/python3.10/dist-packages (from dask==2023.3.2->cuml-cu11->-r requirements_cuml.txt (line 11)) (8.1.4)\n",
            "Requirement already satisfied: cloudpickle>=1.1.1 in /usr/local/lib/python3.10/dist-packages (from dask==2023.3.2->cuml-cu11->-r requirements_cuml.txt (line 11)) (2.2.1)\n",
            "Requirement already satisfied: partd>=1.2.0 in /usr/local/lib/python3.10/dist-packages (from dask==2023.3.2->cuml-cu11->-r requirements_cuml.txt (line 11)) (1.4.0)\n",
            "Requirement already satisfied: pyyaml>=5.3.1 in /usr/local/lib/python3.10/dist-packages (from dask==2023.3.2->cuml-cu11->-r requirements_cuml.txt (line 11)) (6.0)\n",
            "Requirement already satisfied: toolz>=0.8.2 in /usr/local/lib/python3.10/dist-packages (from dask==2023.3.2->cuml-cu11->-r requirements_cuml.txt (line 11)) (0.12.0)\n",
            "Collecting importlib-metadata>=4.13.0 (from dask==2023.3.2->cuml-cu11->-r requirements_cuml.txt (line 11))\n",
            "  Downloading importlib_metadata-6.8.0-py3-none-any.whl (22 kB)\n",
            "Collecting pynvml<11.5,>=11.0.0 (from dask-cuda==23.6.*->cuml-cu11->-r requirements_cuml.txt (line 11))\n",
            "  Downloading pynvml-11.4.1-py3-none-any.whl (46 kB)\n",
            "\u001b[2K     \u001b[90m━━━━━━━━━━━━━━━━━━━━━━━━━━━━━━━━━━━━━━━━\u001b[0m \u001b[32m47.0/47.0 kB\u001b[0m \u001b[31m6.0 MB/s\u001b[0m eta \u001b[36m0:00:00\u001b[0m\n",
            "\u001b[?25hRequirement already satisfied: zict>=2.0.0 in /usr/local/lib/python3.10/dist-packages (from dask-cuda==23.6.*->cuml-cu11->-r requirements_cuml.txt (line 11)) (3.0.0)\n",
            "Requirement already satisfied: jinja2>=2.10.3 in /usr/local/lib/python3.10/dist-packages (from distributed==2023.3.2.1->cuml-cu11->-r requirements_cuml.txt (line 11)) (3.1.2)\n",
            "Requirement already satisfied: locket>=1.0.0 in /usr/local/lib/python3.10/dist-packages (from distributed==2023.3.2.1->cuml-cu11->-r requirements_cuml.txt (line 11)) (1.0.0)\n",
            "Requirement already satisfied: msgpack>=1.0.0 in /usr/local/lib/python3.10/dist-packages (from distributed==2023.3.2.1->cuml-cu11->-r requirements_cuml.txt (line 11)) (1.0.5)\n",
            "Requirement already satisfied: psutil>=5.7.0 in /usr/local/lib/python3.10/dist-packages (from distributed==2023.3.2.1->cuml-cu11->-r requirements_cuml.txt (line 11)) (5.9.5)\n",
            "Requirement already satisfied: sortedcontainers>=2.0.5 in /usr/local/lib/python3.10/dist-packages (from distributed==2023.3.2.1->cuml-cu11->-r requirements_cuml.txt (line 11)) (2.4.0)\n",
            "Requirement already satisfied: tblib>=1.6.0 in /usr/local/lib/python3.10/dist-packages (from distributed==2023.3.2.1->cuml-cu11->-r requirements_cuml.txt (line 11)) (2.0.0)\n",
            "Requirement already satisfied: tornado>=6.0.3 in /usr/local/lib/python3.10/dist-packages (from distributed==2023.3.2.1->cuml-cu11->-r requirements_cuml.txt (line 11)) (6.3.1)\n",
            "Requirement already satisfied: urllib3>=1.24.3 in /usr/local/lib/python3.10/dist-packages (from distributed==2023.3.2.1->cuml-cu11->-r requirements_cuml.txt (line 11)) (1.26.16)\n",
            "Collecting pylibraft-cu11==23.6.* (from raft-dask-cu11==23.6.*->cuml-cu11->-r requirements_cuml.txt (line 11))\n",
            "  Downloading https://pypi.nvidia.com/pylibraft-cu11/pylibraft_cu11-23.6.2-cp310-cp310-manylinux_2_17_x86_64.manylinux2014_x86_64.whl (471.7 MB)\n",
            "\u001b[2K     \u001b[90m━━━━━━━━━━━━━━━━━━━━━━━━━━━━━━━━━━━━━━━\u001b[0m \u001b[32m471.7/471.7 MB\u001b[0m \u001b[31m2.7 MB/s\u001b[0m eta \u001b[36m0:00:00\u001b[0m\n",
            "\u001b[?25hCollecting ucx-py-cu11==0.32.* (from raft-dask-cu11==23.6.*->cuml-cu11->-r requirements_cuml.txt (line 11))\n",
            "  Downloading https://pypi.nvidia.com/ucx-py-cu11/ucx_py_cu11-0.32.0-cp310-cp310-manylinux_2_17_x86_64.manylinux2014_x86_64.whl (7.9 MB)\n",
            "\u001b[2K     \u001b[90m━━━━━━━━━━━━━━━━━━━━━━━━━━━━━━━━━━━━━━━━\u001b[0m \u001b[32m7.9/7.9 MB\u001b[0m \u001b[31m123.7 MB/s\u001b[0m eta \u001b[36m0:00:00\u001b[0m\n",
            "\u001b[?25hRequirement already satisfied: cython in /usr/local/lib/python3.10/dist-packages (from cuda-python<12.0,>=11.7.1->cudf-cu11->-r requirements_cuml.txt (line 10)) (0.29.36)\n",
            "Requirement already satisfied: googleapis-common-protos<2.0.dev0,>=1.56.2 in /usr/local/lib/python3.10/dist-packages (from google-api-core<3.0.0dev,>=2.10.2->pandas-gbq->-r requirements_cuml.txt (line 8)) (1.59.1)\n",
            "Requirement already satisfied: requests<3.0.0.dev0,>=2.18.0 in /usr/local/lib/python3.10/dist-packages (from google-api-core<3.0.0dev,>=2.10.2->pandas-gbq->-r requirements_cuml.txt (line 8)) (2.27.1)\n",
            "Requirement already satisfied: pyasn1-modules>=0.2.1 in /usr/local/lib/python3.10/dist-packages (from google-auth>=2.13.0->pandas-gbq->-r requirements_cuml.txt (line 8)) (0.3.0)\n",
            "Requirement already satisfied: six>=1.9.0 in /usr/local/lib/python3.10/dist-packages (from google-auth>=2.13.0->pandas-gbq->-r requirements_cuml.txt (line 8)) (1.16.0)\n",
            "Requirement already satisfied: rsa<5,>=3.1.4 in /usr/local/lib/python3.10/dist-packages (from google-auth>=2.13.0->pandas-gbq->-r requirements_cuml.txt (line 8)) (4.9)\n",
            "Requirement already satisfied: requests-oauthlib>=0.7.0 in /usr/local/lib/python3.10/dist-packages (from google-auth-oauthlib>=0.7.0->pandas-gbq->-r requirements_cuml.txt (line 8)) (1.3.1)\n",
            "Requirement already satisfied: grpcio<2.0dev,>=1.47.0 in /usr/local/lib/python3.10/dist-packages (from google-cloud-bigquery!=2.4.*,<4.0.0dev,>=3.3.5->pandas-gbq->-r requirements_cuml.txt (line 8)) (1.56.0)\n",
            "Requirement already satisfied: proto-plus<2.0.0dev,>=1.15.0 in /usr/local/lib/python3.10/dist-packages (from google-cloud-bigquery!=2.4.*,<4.0.0dev,>=3.3.5->pandas-gbq->-r requirements_cuml.txt (line 8)) (1.22.3)\n",
            "Requirement already satisfied: google-cloud-core<3.0.0dev,>=1.6.0 in /usr/local/lib/python3.10/dist-packages (from google-cloud-bigquery!=2.4.*,<4.0.0dev,>=3.3.5->pandas-gbq->-r requirements_cuml.txt (line 8)) (2.3.3)\n",
            "Requirement already satisfied: google-resumable-media<3.0dev,>=0.6.0 in /usr/local/lib/python3.10/dist-packages (from google-cloud-bigquery!=2.4.*,<4.0.0dev,>=3.3.5->pandas-gbq->-r requirements_cuml.txt (line 8)) (2.5.0)\n",
            "Requirement already satisfied: python-dateutil<3.0dev,>=2.7.2 in /usr/local/lib/python3.10/dist-packages (from google-cloud-bigquery!=2.4.*,<4.0.0dev,>=3.3.5->pandas-gbq->-r requirements_cuml.txt (line 8)) (2.8.2)\n",
            "Collecting llvmlite<0.41,>=0.40.0dev0 (from numba>=0.57->cudf-cu11->-r requirements_cuml.txt (line 10))\n",
            "  Downloading llvmlite-0.40.1-cp310-cp310-manylinux_2_17_x86_64.manylinux2014_x86_64.whl (42.1 MB)\n",
            "\u001b[2K     \u001b[90m━━━━━━━━━━━━━━━━━━━━━━━━━━━━━━━━━━━━━━━━\u001b[0m \u001b[32m42.1/42.1 MB\u001b[0m \u001b[31m41.2 MB/s\u001b[0m eta \u001b[36m0:00:00\u001b[0m\n",
            "\u001b[?25hRequirement already satisfied: pytz>=2020.1 in /usr/local/lib/python3.10/dist-packages (from pandas>=1.1.4->pandas-gbq->-r requirements_cuml.txt (line 8)) (2022.7.1)\n",
            "Requirement already satisfied: grpcio-status<2.0.dev0,>=1.33.2 in /usr/local/lib/python3.10/dist-packages (from google-api-core<3.0.0dev,>=2.10.2->pandas-gbq->-r requirements_cuml.txt (line 8)) (1.48.2)\n",
            "Requirement already satisfied: google-crc32c<2.0dev,>=1.0 in /usr/local/lib/python3.10/dist-packages (from google-resumable-media<3.0dev,>=0.6.0->google-cloud-bigquery!=2.4.*,<4.0.0dev,>=3.3.5->pandas-gbq->-r requirements_cuml.txt (line 8)) (1.5.0)\n",
            "Requirement already satisfied: zipp>=0.5 in /usr/local/lib/python3.10/dist-packages (from importlib-metadata>=4.13.0->dask==2023.3.2->cuml-cu11->-r requirements_cuml.txt (line 11)) (3.16.0)\n",
            "Requirement already satisfied: MarkupSafe>=2.0 in /usr/local/lib/python3.10/dist-packages (from jinja2>=2.10.3->distributed==2023.3.2.1->cuml-cu11->-r requirements_cuml.txt (line 11)) (2.1.3)\n",
            "Requirement already satisfied: pyasn1<0.6.0,>=0.4.6 in /usr/local/lib/python3.10/dist-packages (from pyasn1-modules>=0.2.1->google-auth>=2.13.0->pandas-gbq->-r requirements_cuml.txt (line 8)) (0.5.0)\n",
            "Requirement already satisfied: certifi>=2017.4.17 in /usr/local/lib/python3.10/dist-packages (from requests<3.0.0.dev0,>=2.18.0->google-api-core<3.0.0dev,>=2.10.2->pandas-gbq->-r requirements_cuml.txt (line 8)) (2023.5.7)\n",
            "Requirement already satisfied: charset-normalizer~=2.0.0 in /usr/local/lib/python3.10/dist-packages (from requests<3.0.0.dev0,>=2.18.0->google-api-core<3.0.0dev,>=2.10.2->pandas-gbq->-r requirements_cuml.txt (line 8)) (2.0.12)\n",
            "Requirement already satisfied: idna<4,>=2.5 in /usr/local/lib/python3.10/dist-packages (from requests<3.0.0.dev0,>=2.18.0->google-api-core<3.0.0dev,>=2.10.2->pandas-gbq->-r requirements_cuml.txt (line 8)) (3.4)\n",
            "Requirement already satisfied: oauthlib>=3.0.0 in /usr/local/lib/python3.10/dist-packages (from requests-oauthlib>=0.7.0->google-auth-oauthlib>=0.7.0->pandas-gbq->-r requirements_cuml.txt (line 8)) (3.2.2)\n",
            "Installing collected packages: ptxcompiler-cu11, nvtx, cubinlinker-cu11, pynvml, pyarrow, protobuf, llvmlite, importlib-metadata, cupy-cuda11x, cuda-python, ucx-py-cu11, treelite-runtime, treelite, numba, dask, rmm-cu11, distributed, pylibraft-cu11, dask-cuda, cudf-cu11, raft-dask-cu11, dask-cudf-cu11, pandas-gbq, cuml-cu11\n",
            "  Attempting uninstall: protobuf\n",
            "    Found existing installation: protobuf 3.20.3\n",
            "    Uninstalling protobuf-3.20.3:\n",
            "      Successfully uninstalled protobuf-3.20.3\n",
            "  Attempting uninstall: llvmlite\n",
            "    Found existing installation: llvmlite 0.39.1\n",
            "    Uninstalling llvmlite-0.39.1:\n",
            "      Successfully uninstalled llvmlite-0.39.1\n",
            "  Attempting uninstall: numba\n",
            "    Found existing installation: numba 0.56.4\n",
            "    Uninstalling numba-0.56.4:\n",
            "      Successfully uninstalled numba-0.56.4\n",
            "  Attempting uninstall: dask\n",
            "    Found existing installation: dask 2022.12.1\n",
            "    Uninstalling dask-2022.12.1:\n",
            "      Successfully uninstalled dask-2022.12.1\n",
            "  Attempting uninstall: distributed\n",
            "    Found existing installation: distributed 2022.12.1\n",
            "    Uninstalling distributed-2022.12.1:\n",
            "      Successfully uninstalled distributed-2022.12.1\n",
            "Successfully installed cubinlinker-cu11-0.3.0.post1 cuda-python-11.8.2 cudf-cu11-23.6.1 cuml-cu11-23.6.0 cupy-cuda11x-12.1.0 dask-2023.3.2 dask-cuda-23.6.0 dask-cudf-cu11-23.6.0 distributed-2023.3.2.1 importlib-metadata-6.8.0 llvmlite-0.40.1 numba-0.57.1 nvtx-0.2.5 pandas-gbq-0.19.2 protobuf-4.21.12 ptxcompiler-cu11-0.7.0.post1 pyarrow-11.0.0 pylibraft-cu11-23.6.2 pynvml-11.4.1 raft-dask-cu11-23.6.2 rmm-cu11-23.6.0 treelite-3.2.0 treelite-runtime-3.2.0 ucx-py-cu11-0.32.0\n"
          ]
        }
      ]
    },
    {
      "cell_type": "markdown",
      "metadata": {
        "id": "8EQmyquSd49S"
      },
      "source": [
        "##  Load Modules"
      ]
    },
    {
      "cell_type": "code",
      "execution_count": 11,
      "metadata": {
        "colab": {
          "base_uri": "https://localhost:8080/"
        },
        "id": "niefkB7Pd49S",
        "outputId": "e821e9da-611a-48c1-a8d1-56ae3db882b1"
      },
      "outputs": [
        {
          "output_type": "stream",
          "name": "stderr",
          "text": [
            "<ipython-input-11-c5b66c3f527d>:10: TqdmExperimentalWarning: Using `tqdm.autonotebook.tqdm` in notebook mode. Use `tqdm.tqdm` instead to force console mode (e.g. in jupyter console)\n",
            "  from tqdm.autonotebook import tqdm\n"
          ]
        }
      ],
      "source": [
        "import os\n",
        "# os.chdir('/home/amunoz/hits-sdo-similaritysearch')\n",
        "\n",
        "import copy\n",
        "from cuml.cluster import hdbscan\n",
        "from cuml import UMAP\n",
        "import numpy as np\n",
        "from numpy.linalg import norm\n",
        "import pandas as pd\n",
        "from tqdm.autonotebook import tqdm\n",
        "\n",
        "import torch\n",
        "import torchvision\n",
        "from torch import nn\n",
        "import pytorch_lightning as pl\n",
        "from pytorch_lightning.loggers import WandbLogger\n",
        "torch.set_float32_matmul_precision(\"high\")\n",
        "\n",
        "import wandb\n",
        "import matplotlib.pyplot as plt\n",
        "import matplotlib.gridspec as gridspec\n",
        "import matplotlib.colors as colors\n",
        "import matplotlib\n",
        "\n",
        "from lightly.data import LightlyDataset\n",
        "from lightly.data.multi_view_collate import MultiViewCollate\n",
        "from lightly.loss import NegativeCosineSimilarity, NTXentLoss\n",
        "from lightly.models.modules import BYOLPredictionHead, BYOLProjectionHead\n",
        "from lightly.models.utils import deactivate_requires_grad, update_momentum\n",
        "from lightly.transforms.simclr_transform import SimCLRTransform\n",
        "from lightly.utils.scheduler import cosine_schedule\n",
        "\n",
        "import seaborn as sns\n",
        "from search_byol.dataset import SDOTilesDataset\n",
        "from search_utils.image_utils import read_image\n",
        "# import umap\n",
        "\n",
        "from sklearn.metrics import davies_bouldin_score\n",
        "from cuml.metrics.cluster.silhouette_score import cython_silhouette_score as silhouette_score\n",
        "from sklearn.model_selection import ParameterGrid\n",
        "\n",
        "device = \"cuda\" if torch.cuda.is_available() else \"cpu\""
      ]
    },
    {
      "cell_type": "markdown",
      "metadata": {
        "id": "2AeUD0yxW5-h"
      },
      "source": [
        "## Login to Wanddb and initialize logger"
      ]
    },
    {
      "cell_type": "code",
      "execution_count": 12,
      "metadata": {
        "colab": {
          "base_uri": "https://localhost:8080/"
        },
        "id": "n_Xla6gJX8Lh",
        "outputId": "ea7f35e0-fedd-45a3-a912-873a8b7ef9b1"
      },
      "outputs": [
        {
          "output_type": "stream",
          "name": "stdout",
          "text": [
            "\u001b[34m\u001b[1mwandb\u001b[0m: Appending key for api.wandb.ai to your netrc file: /root/.netrc\n"
          ]
        }
      ],
      "source": [
        "!wandb login --relogin"
      ]
    },
    {
      "cell_type": "markdown",
      "metadata": {
        "id": "hZuoKah_dWpe"
      },
      "source": [
        "## Define run parameters and initalize Wandb"
      ]
    },
    {
      "cell_type": "code",
      "execution_count": 13,
      "metadata": {
        "id": "Car-gZLeMUiW"
      },
      "outputs": [],
      "source": [
        "# Set data type and data path.  Make sure it matches cells above\n",
        "\n",
        "# 171 with false yellow colors\n",
        "# data_type = '171Color'\n",
        "# data_path = '/content/aia_171_color_1perMonth'\n",
        "\n",
        "# 171 grayscale\n",
        "# data_type = '171gray'\n",
        "# data_path = '/content/AIA171_Miniset_BW'\n",
        "\n",
        "# Multiwavelength r:211 g:193 b:171\n",
        "# data_type = 'r:211 g:193 b:171'\n",
        "data_type = 'r:211 g:193 b:171 extended'\n",
        "data_path = '/content/AIA211_193_171_Miniset'\n",
        "# data_path = '/mnt/d/Mis Documentos/AAResearch/SEARCH/hits-sdo-downloader/AIA211_193_171_Miniset_exp/AIA211_193_171_Miniset'\n",
        "\n",
        "# Multiwavelength r:304 g:211 b:171\n",
        "# data_type = 'r:304 g:211 b:171'\n",
        "# data_type = 'r:304 g:211 b:171 extended'\n",
        "# data_path = '/content/AIA304_211_171_Miniset'\n",
        "\n",
        "# Multiwavelength r:335 g:193 b:94\n",
        "# data_type = 'r:335 g:193 b:94'\n",
        "# data_type = 'r:335 g:193 b:94 extended'\n",
        "# data_path = '/content/AIA335_193_94_Miniset'"
      ]
    },
    {
      "cell_type": "code",
      "execution_count": 14,
      "metadata": {
        "id": "hEDgOBn4dfyn",
        "colab": {
          "base_uri": "https://localhost:8080/",
          "height": 204,
          "referenced_widgets": [
            "f632c10b4e7443d5a3b0802a162c177d",
            "6f04e71e3cf34947afd5e9e8e9e9bf55",
            "609888f19fc84facb57bb7a419b5afb2",
            "d3a481ff6ea245278b8c6481539dbc10",
            "c9dac2c9d48e46219dd433dd5d7c8d58",
            "208cc54a79cb40afbed575a329934955",
            "1cceeb2e0dc64df3a500f765c46e5a15",
            "b3f1791bf3dc433088ee8af07794ec5e"
          ]
        },
        "outputId": "855ff63c-7734-40c4-ec1c-50059d31579a"
      },
      "outputs": [
        {
          "output_type": "stream",
          "name": "stderr",
          "text": [
            "INFO:lightning_fabric.utilities.seed:Global seed set to 42\n",
            "\u001b[34m\u001b[1mwandb\u001b[0m: Currently logged in as: \u001b[33mamunozj\u001b[0m (\u001b[33msearch-byol\u001b[0m). Use \u001b[1m`wandb login --relogin`\u001b[0m to force relogin\n"
          ]
        },
        {
          "output_type": "display_data",
          "data": {
            "text/plain": [
              "VBox(children=(Label(value='Waiting for wandb.init()...\\r'), FloatProgress(value=0.016670045983335057, max=1.0…"
            ],
            "application/vnd.jupyter.widget-view+json": {
              "version_major": 2,
              "version_minor": 0,
              "model_id": "f632c10b4e7443d5a3b0802a162c177d"
            }
          },
          "metadata": {}
        },
        {
          "output_type": "display_data",
          "data": {
            "text/plain": [
              "<IPython.core.display.HTML object>"
            ],
            "text/html": [
              "Tracking run with wandb version 0.15.5"
            ]
          },
          "metadata": {}
        },
        {
          "output_type": "display_data",
          "data": {
            "text/plain": [
              "<IPython.core.display.HTML object>"
            ],
            "text/html": [
              "Run data is saved locally in <code>./wandb/run-20230717_131130-tmjlcw9i</code>"
            ]
          },
          "metadata": {}
        },
        {
          "output_type": "display_data",
          "data": {
            "text/plain": [
              "<IPython.core.display.HTML object>"
            ],
            "text/html": [
              "Syncing run <strong><a href='https://wandb.ai/search-byol/search-byol-for_real/runs/tmjlcw9i' target=\"_blank\">AMJ-ds1_bs512_lr0.1_doubleaug_ss0.1_se1.0_pjs8_pds8_contrast</a></strong> to <a href='https://wandb.ai/search-byol/search-byol-for_real' target=\"_blank\">Weights & Biases</a> (<a href='https://wandb.me/run' target=\"_blank\">docs</a>)<br/>"
            ]
          },
          "metadata": {}
        },
        {
          "output_type": "display_data",
          "data": {
            "text/plain": [
              "<IPython.core.display.HTML object>"
            ],
            "text/html": [
              " View project at <a href='https://wandb.ai/search-byol/search-byol-for_real' target=\"_blank\">https://wandb.ai/search-byol/search-byol-for_real</a>"
            ]
          },
          "metadata": {}
        },
        {
          "output_type": "display_data",
          "data": {
            "text/plain": [
              "<IPython.core.display.HTML object>"
            ],
            "text/html": [
              " View run at <a href='https://wandb.ai/search-byol/search-byol-for_real/runs/tmjlcw9i' target=\"_blank\">https://wandb.ai/search-byol/search-byol-for_real/runs/tmjlcw9i</a>"
            ]
          },
          "metadata": {}
        }
      ],
      "source": [
        "seed = 42 # So clever.\n",
        "pl.seed_everything(seed, workers=True)\n",
        "\n",
        "initial = \"AMJ\"\n",
        "job_type = \"HDB-SCAN-Sweep2\"\n",
        "epochs = 4\n",
        "data_stride = 15\n",
        "batch_size = 512\n",
        "augmentation = 'double'\n",
        "loss = 'contrast'   # 'contrast' or 'cos'\n",
        "learning_rate = 0.1\n",
        "cosine_scheduler_start = .1\n",
        "cosine_scheduler_end = 1.0\n",
        "projection_size = 8\n",
        "prediction_size = 8\n",
        "\n",
        "notes = \"\"\n",
        "name = f\"{initial}-ds{data_stride}_bs{batch_size}_lr{learning_rate}_{augmentation}aug_ss{cosine_scheduler_start}_se{cosine_scheduler_end}_pjs{projection_size}_pds{prediction_size}_{loss}\"\n",
        "group = \"clustering\"\n",
        "tags = [\"experimentation\"]\n",
        "\n",
        "\n",
        "wandb_logger = WandbLogger(\n",
        "    # set the wandb project where this run will be logged\n",
        "    project=\"search-byol-for_real\",\n",
        "\n",
        "    # track hyperparameters and run metadata\n",
        "    config={\n",
        "    \"seed\": seed,\n",
        "    \"data_type\": data_type,\n",
        "    \"batch size\": batch_size,\n",
        "    \"augmention\": augmentation,\n",
        "    \"data stride\": data_stride,\n",
        "    \"learning_rate\": learning_rate,\n",
        "    \"cosine_scheduler_start\": cosine_scheduler_start,\n",
        "    \"cosine_scheduler_end\": cosine_scheduler_end\n",
        "    },\n",
        "    entity = \"search-byol\",\n",
        "    job_type = job_type,\n",
        "    name = name,\n",
        "    notes = notes,\n",
        "    group = group,\n",
        "    tags = tags,\n",
        "\n",
        ")\n"
      ]
    },
    {
      "cell_type": "markdown",
      "metadata": {
        "id": "wTTNr9Qad49S"
      },
      "source": [
        "## Define BYOL Model"
      ]
    },
    {
      "cell_type": "code",
      "execution_count": 15,
      "metadata": {
        "id": "Gl8JlRFfd49S"
      },
      "outputs": [],
      "source": [
        "class BYOL(pl.LightningModule):\n",
        "    def __init__(self, lr=0.1, projection_size=256, prediction_size=256, cosine_scheduler_start=0.1, cosine_scheduler_end=1.0, epochs=10, loss='cos'):\n",
        "        super().__init__()\n",
        "\n",
        "        resnet = torchvision.models.resnet18() # Play w/ resnet.\n",
        "        self.backbone = nn.Sequential(*list(resnet.children())[:-1])\n",
        "        self.projection_head = BYOLProjectionHead(512, 1024, projection_size)\n",
        "        self.prediction_head = BYOLPredictionHead(projection_size, 1024, prediction_size)\n",
        "\n",
        "        self.backbone_momentum = copy.deepcopy(self.backbone)\n",
        "        self.projection_head_momentum = copy.deepcopy(self.projection_head)\n",
        "\n",
        "        deactivate_requires_grad(self.backbone_momentum)\n",
        "        deactivate_requires_grad(self.projection_head_momentum)\n",
        "\n",
        "\n",
        "        self.loss = loss\n",
        "        self.loss_cos = NegativeCosineSimilarity()\n",
        "        self.loss_contrast = NTXentLoss()\n",
        "\n",
        "        self.cosine_scheduler_start = cosine_scheduler_start\n",
        "        self.cosine_scheduler_end = cosine_scheduler_end\n",
        "        self.epochs = epochs\n",
        "        self.lr = lr\n",
        "\n",
        "    def forward(self, x):\n",
        "        y = self.backbone(x).flatten(start_dim=1)\n",
        "        z = self.projection_head(y)\n",
        "        p = self.prediction_head(z)\n",
        "        return p\n",
        "\n",
        "    def forward_momentum(self, x):\n",
        "        y = self.backbone_momentum(x).flatten(start_dim=1)\n",
        "        z = self.projection_head_momentum(y)\n",
        "        z = z.detach()\n",
        "        return z\n",
        "\n",
        "    def training_step(self, batch, batch_idx):\n",
        "\n",
        "        momentum = cosine_schedule(self.current_epoch, self.epochs, self.cosine_scheduler_start, self.cosine_scheduler_end)\n",
        "        update_momentum(self.backbone, self.backbone_momentum, m=momentum)\n",
        "        update_momentum(self.projection_head, self.projection_head_momentum, m=momentum)\n",
        "        (x0, x1, _) = batch\n",
        "        p0 = self.forward(x0)\n",
        "        z0 = self.forward_momentum(x0)\n",
        "        p1 = self.forward(x1)\n",
        "        z1 = self.forward_momentum(x1)\n",
        "\n",
        "        loss_cos = 0.5 * (self.loss_cos(p0, z1) + self.loss_cos(p1, z0))\n",
        "        loss_contrast = 0.5 * (self.loss_contrast(p0, z1) + self.loss_contrast(p1, z0))\n",
        "\n",
        "        if self.loss == 'cos':\n",
        "            loss = loss_cos\n",
        "        else:\n",
        "            loss = loss_contrast\n",
        "\n",
        "        self.log('loss cos', loss_cos)\n",
        "        self.log('loss contrast', loss_contrast)\n",
        "        self.log('loss', loss)\n",
        "        return loss\n",
        "\n",
        "    def configure_optimizers(self):\n",
        "        return torch.optim.SGD(self.parameters(), lr=self.lr) # Play w/ optimizers.\n"
      ]
    },
    {
      "cell_type": "markdown",
      "metadata": {
        "id": "oOaS3xWrd49T"
      },
      "source": [
        "## Initialize Module"
      ]
    },
    {
      "cell_type": "code",
      "execution_count": 16,
      "metadata": {
        "id": "-4tn1MpKd49T"
      },
      "outputs": [],
      "source": [
        "model = BYOL(lr=learning_rate, projection_size=projection_size, prediction_size=prediction_size, cosine_scheduler_start=cosine_scheduler_start, cosine_scheduler_end=cosine_scheduler_end, loss=loss)"
      ]
    },
    {
      "cell_type": "markdown",
      "metadata": {
        "id": "zh9kGF4Ad49T"
      },
      "source": [
        "## Initialize Dataloader"
      ]
    },
    {
      "cell_type": "code",
      "execution_count": 17,
      "metadata": {
        "id": "HEryt3YUd49T"
      },
      "outputs": [],
      "source": [
        "dataset = SDOTilesDataset(data_path=data_path, augmentation=augmentation, data_stride=data_stride)\n",
        "\n",
        "dataloader = torch.utils.data.DataLoader(\n",
        "    dataset,\n",
        "    batch_size=batch_size,\n",
        "    shuffle=True,\n",
        "    drop_last=False,\n",
        "    num_workers=8,\n",
        ")"
      ]
    },
    {
      "cell_type": "markdown",
      "metadata": {
        "id": "2oaOqFlRd49U"
      },
      "source": [
        "## Run Training Loop, Inference, and log in wandb"
      ]
    },
    {
      "cell_type": "code",
      "execution_count": null,
      "metadata": {
        "id": "RSMdSelud49U",
        "colab": {
          "base_uri": "https://localhost:8080/",
          "height": 414,
          "referenced_widgets": [
            "a242ef8c75324861bea2771ad286724a",
            "55b6e9ce29cf4ac58434ac94f8338d1e",
            "0382e43f3e294cafbfe93c36b0c6f98f",
            "4f13bba973924847b007dd9d78465b90",
            "e5ea1405ecb9469896d4cfc18bceacf9",
            "54bd4bdcfa0441a2a5f260b29c02d492",
            "948b0d626c534fb8b953cffd3aa130b5",
            "b68bf0475c674b05822a01cbc0146d3a",
            "1385595e09bb4daca0a7d9ebfd167b98",
            "6546f73f35b446e18c4cbcca8342f24a",
            "97e83a252ab54fdba326389e4c3f95cd"
          ]
        },
        "outputId": "ee6c7735-e3f9-44a0-aae6-bd354398172d"
      },
      "outputs": [
        {
          "output_type": "stream",
          "name": "stderr",
          "text": [
            "INFO:pytorch_lightning.utilities.rank_zero:GPU available: True (cuda), used: True\n",
            "INFO:pytorch_lightning.utilities.rank_zero:TPU available: False, using: 0 TPU cores\n",
            "INFO:pytorch_lightning.utilities.rank_zero:IPU available: False, using: 0 IPUs\n",
            "INFO:pytorch_lightning.utilities.rank_zero:HPU available: False, using: 0 HPUs\n",
            "\u001b[34m\u001b[1mwandb\u001b[0m: logging graph, to disable use `wandb.watch(log_graph=False)`\n",
            "INFO:pytorch_lightning.accelerators.cuda:LOCAL_RANK: 0 - CUDA_VISIBLE_DEVICES: [0]\n",
            "INFO:pytorch_lightning.callbacks.model_summary:\n",
            "  | Name                     | Type                     | Params\n",
            "----------------------------------------------------------------------\n",
            "0 | backbone                 | Sequential               | 11.2 M\n",
            "1 | projection_head          | BYOLProjectionHead       | 534 K \n",
            "2 | prediction_head          | BYOLPredictionHead       | 18.4 K\n",
            "3 | backbone_momentum        | Sequential               | 11.2 M\n",
            "4 | projection_head_momentum | BYOLProjectionHead       | 534 K \n",
            "5 | loss_cos                 | NegativeCosineSimilarity | 0     \n",
            "6 | loss_contrast            | NTXentLoss               | 0     \n",
            "----------------------------------------------------------------------\n",
            "11.7 M    Trainable params\n",
            "11.7 M    Non-trainable params\n",
            "23.4 M    Total params\n",
            "93.762    Total estimated model params size (MB)\n"
          ]
        },
        {
          "output_type": "display_data",
          "data": {
            "text/plain": [
              "Training: 0it [00:00, ?it/s]"
            ],
            "application/vnd.jupyter.widget-view+json": {
              "version_major": 2,
              "version_minor": 0,
              "model_id": "a242ef8c75324861bea2771ad286724a"
            }
          },
          "metadata": {}
        }
      ],
      "source": [
        "trainer = pl.Trainer(max_epochs=epochs,\n",
        "                     accelerator=\"auto\", devices=\"auto\", strategy=\"auto\",\n",
        "                     logger=wandb_logger, log_every_n_steps=10, deterministic=True)\n",
        "\n",
        "wandb_logger.watch(model)\n",
        "trainer.fit(model=model, train_dataloaders=dataloader)"
      ]
    },
    {
      "cell_type": "markdown",
      "metadata": {
        "id": "OGx0ROM5QBdF"
      },
      "source": [
        "### Save model to wandb"
      ]
    },
    {
      "cell_type": "code",
      "execution_count": null,
      "metadata": {
        "id": "fz6ik6KSLQ7L"
      },
      "outputs": [],
      "source": [
        "torch.save(model.state_dict(), f'{name}_.pt')\n",
        "wandb.save(f'{name}_.pt')"
      ]
    },
    {
      "cell_type": "markdown",
      "metadata": {
        "id": "EUcoNAuvQGAK"
      },
      "source": [
        "## Run inference"
      ]
    },
    {
      "cell_type": "code",
      "execution_count": null,
      "metadata": {
        "id": "4Jj9mNEbOth2"
      },
      "outputs": [],
      "source": [
        "dataset_inference = SDOTilesDataset(data_path=data_path, augmentation='none', data_stride=1)\n",
        "\n",
        "dataloader_inference = torch.utils.data.DataLoader(\n",
        "    dataset_inference,\n",
        "    batch_size=1000,\n",
        "    shuffle=True,\n",
        "    drop_last=False,\n",
        "    num_workers=8,\n",
        ")\n",
        "\n",
        "batches_bar = tqdm(dataloader_inference, dynamic_ncols=True, leave=True, desc=f'Running inference on batches')\n",
        "\n",
        "\n",
        "model.to(device)\n",
        "inference_list = []\n",
        "filename_list = []\n",
        "\n",
        "for (x0, image_file) in batches_bar:\n",
        "    embeddings_inference = model.forward_momentum(x0.to(device)).cpu().numpy()\n",
        "    inference_list.append(embeddings_inference)\n",
        "    filename_list.append(image_file)\n",
        "\n",
        "embeddings_inference = np.concatenate(inference_list, axis=0)\n",
        "returned_images = np.concatenate(filename_list)"
      ]
    },
    {
      "cell_type": "markdown",
      "metadata": {
        "id": "u_Z4KFgzkW6n"
      },
      "source": [
        "# Cluster evaluation."
      ]
    },
    {
      "cell_type": "markdown",
      "metadata": {
        "id": "iTS1mnskWLnV"
      },
      "source": [
        "### Relative validity calculation taken from HDBSCAN cpu"
      ]
    },
    {
      "cell_type": "code",
      "execution_count": null,
      "metadata": {
        "id": "tQMRlWtmWLnW"
      },
      "outputs": [],
      "source": [
        "def relative_validity(labels_, minimum_spanning_tree_):\n",
        "\n",
        "    labels = labels_\n",
        "    sizes = np.bincount(labels + 1)\n",
        "    noise_size = sizes[0]\n",
        "    cluster_size = sizes[1:]\n",
        "    total = noise_size + np.sum(cluster_size)\n",
        "    num_clusters = len(cluster_size)\n",
        "    DSC = np.zeros(num_clusters)\n",
        "    min_outlier_sep = np.inf  # only required if num_clusters = 1\n",
        "    correction_const = 2  # only required if num_clusters = 1\n",
        "\n",
        "    # Unltimately, for each Ci, we only require the\n",
        "    # minimum of DSPC(Ci, Cj) over all Cj != Ci.\n",
        "    # So let's call this value DSPC_wrt(Ci), i.e.\n",
        "    # density separation 'with respect to' Ci.\n",
        "    DSPC_wrt = np.ones(num_clusters) * np.inf\n",
        "    max_distance = 0\n",
        "\n",
        "    mst_df = minimum_spanning_tree_.to_pandas()\n",
        "\n",
        "    for edge in mst_df.iterrows():\n",
        "        label1 = labels[int(edge[1][\"from\"])]\n",
        "        label2 = labels[int(edge[1][\"to\"])]\n",
        "        length = edge[1][\"distance\"]\n",
        "\n",
        "        max_distance = max(max_distance, length)\n",
        "\n",
        "        if label1 == -1 and label2 == -1:\n",
        "            continue\n",
        "        elif label1 == -1 or label2 == -1:\n",
        "            # If exactly one of the points is noise\n",
        "            min_outlier_sep = min(min_outlier_sep, length)\n",
        "            continue\n",
        "\n",
        "        if label1 == label2:\n",
        "            # Set the density sparseness of the cluster\n",
        "            # to the sparsest value seen so far.\n",
        "            DSC[label1] = max(length, DSC[label1])\n",
        "        else:\n",
        "            # Check whether density separations with\n",
        "            # respect to each of these clusters can\n",
        "            # be reduced.\n",
        "            DSPC_wrt[label1] = min(length, DSPC_wrt[label1])\n",
        "            DSPC_wrt[label2] = min(length, DSPC_wrt[label2])\n",
        "\n",
        "    # In case min_outlier_sep is still np.inf, we assign a new value to it.\n",
        "    # This only makes sense if num_clusters = 1 since it has turned out\n",
        "    # that the MR-MST has no edges between a noise point and a core point.\n",
        "    min_outlier_sep = max_distance if min_outlier_sep == np.inf else min_outlier_sep\n",
        "\n",
        "    # DSPC_wrt[Ci] might be infinite if the connected component for Ci is\n",
        "    # an \"island\" in the MR-MST. Whereas for other clusters Cj and Ck, the\n",
        "    # MR-MST might contain an edge with one point in Cj and ther other one\n",
        "    # in Ck. Here, we replace the infinite density separation of Ci by\n",
        "    # another large enough value.\n",
        "    #\n",
        "    # TODO: Think of a better yet efficient way to handle this.\n",
        "    correction = correction_const * (\n",
        "        max_distance if num_clusters > 1 else min_outlier_sep\n",
        "    )\n",
        "    DSPC_wrt[np.where(DSPC_wrt == np.inf)] = correction\n",
        "\n",
        "    V_index = [\n",
        "        (DSPC_wrt[i] - DSC[i]) / max(DSPC_wrt[i], DSC[i])\n",
        "        for i in range(num_clusters)\n",
        "    ]\n",
        "    score = np.sum(\n",
        "        [(cluster_size[i] * V_index[i]) / total for i in range(num_clusters)]\n",
        "    )\n",
        "    _relative_validity = score\n",
        "    return _relative_validity"
      ]
    },
    {
      "cell_type": "code",
      "execution_count": null,
      "metadata": {
        "id": "fFq6WpJOgwji"
      },
      "outputs": [],
      "source": [
        "# specify parameters and distributions to sample from\n",
        "param_dist = {'min_samples': [2, 4, 8, 16, 32],\n",
        "              'min_cluster_size':[2, 4, 8, 16, 32],\n",
        "              'cluster_selection_method' : ['eom','leaf'],\n",
        "              'cluster_selection_epsilon' : [0.0, 0.1, 0.15, 0.2],\n",
        "              'metric' : ['euclidean'],\n",
        "              'gen_min_span_tree' : [True]\n",
        "             }\n",
        "\n",
        "wandb.config.update(param_dist)"
      ]
    },
    {
      "cell_type": "markdown",
      "source": [
        "### Normalizing embeddings so that Euclidean distance corresponds to Cosine distance"
      ],
      "metadata": {
        "id": "jnCUW32MHXYy"
      }
    },
    {
      "cell_type": "code",
      "source": [
        "normalized_embeddings = embeddings_inference/norm(embeddings_inference, axis=1, ord=2)[:,None]"
      ],
      "metadata": {
        "id": "-XKFZK8KHGv9"
      },
      "execution_count": null,
      "outputs": []
    },
    {
      "cell_type": "code",
      "execution_count": null,
      "metadata": {
        "id": "0mHiZwW4Lt1l"
      },
      "outputs": [],
      "source": [
        "parameter_list =  list(ParameterGrid(param_dist))\n",
        "relative_validity_list = []\n",
        "DBIndex_list = []\n",
        "silhouette_list = []\n",
        "\n",
        "best_validity=-1\n",
        "best_dbindex=-1\n",
        "best_silhouette=-1\n",
        "parameters_bar = tqdm(ParameterGrid(param_dist), desc=f'Best relative validity {best_validity:>02}, Best DBindex {best_dbindex:>02}, Best silhouette {best_silhouette:>02}')\n",
        "for parameters in parameters_bar:\n",
        "  clusterer = hdbscan.HDBSCAN(**parameters)\n",
        "  clusterer.fit(normalized_embeddings)\n",
        "  relative_validity_list.append(relative_validity(clusterer.labels_, clusterer.minimum_spanning_tree_))\n",
        "\n",
        "  ss = silhouette_score(normalized_embeddings, clusterer.labels_, metric='euclidean')\n",
        "  silhouette_list.append(ss)\n",
        "\n",
        "  dbs = davies_bouldin_score(normalized_embeddings, clusterer.labels_)\n",
        "  DBIndex_list.append(dbs)\n",
        "\n",
        "  best_validity = np.max(np.array(relative_validity_list))\n",
        "  best_dbindex = np.min(np.array(DBIndex_list))\n",
        "  best_silhouette= np.max(np.array(silhouette_list))\n",
        "\n",
        "  parameters_bar.set_description(f'Best relative validity {best_validity:>02}, Best DBindex {best_dbindex:>02}, Best silhouette {best_silhouette:>02}')\n",
        "  parameters_bar.refresh()"
      ]
    },
    {
      "cell_type": "markdown",
      "metadata": {
        "id": "1M7t0tQMWLnZ"
      },
      "source": [
        "## Visualize best parameters"
      ]
    },
    {
      "cell_type": "code",
      "execution_count": null,
      "metadata": {
        "id": "BbOC-lCbWLna"
      },
      "outputs": [],
      "source": [
        "def draw_umap(data, colors, n_neighbors=15, min_dist=0.1, spread=1, n_components=2, repulsion_strength=1.0, metric='euclidean', title='', alpha=0.1):\n",
        "    fit = UMAP(\n",
        "        n_neighbors=n_neighbors,\n",
        "        min_dist=min_dist,\n",
        "        n_components=n_components,\n",
        "        metric=metric,\n",
        "        spread=spread,\n",
        "        repulsion_strength=repulsion_strength,\n",
        "        verbose=True\n",
        "    )\n",
        "    u = fit.fit_transform(data);\n",
        "    fig = plt.figure(figsize=(16,9), dpi=150)\n",
        "    if n_components == 1:\n",
        "        ax = fig.add_subplot(111)\n",
        "        ax.scatter(u[:,0], range(len(u)), c=colors, s=1, alpha=alpha)\n",
        "    if n_components == 2:\n",
        "        ax = fig.add_subplot(111)\n",
        "        ax.scatter(u[:,0], u[:,1], c=colors, s=1, alpha=alpha)\n",
        "    if n_components == 3:\n",
        "        ax = fig.add_subplot(111, projection='3d')\n",
        "        ax.scatter(u[:,0], u[:,1], u[:,2], c=colors, s=1, alpha=alpha)\n",
        "    plt.title(title, fontsize=18)\n",
        "\n",
        "    return fig"
      ]
    },
    {
      "cell_type": "code",
      "execution_count": null,
      "metadata": {
        "id": "HvUF1TH_VCpq"
      },
      "outputs": [],
      "source": [
        "best_index = (np.array(relative_validity_list) == np.max(np.array(relative_validity_list))).nonzero()[0][0]\n",
        "best_validity = np.max(np.array(relative_validity_list))\n",
        "\n",
        "clusterer = hdbscan.HDBSCAN(**parameter_list[best_index])\n",
        "clusterer.fit(embeddings_inference)\n",
        "\n",
        "# Plotting best results\n",
        "sns.color_palette('Paired', clusterer.labels_.max()+1)\n",
        "\n",
        "color_palette = sns.color_palette('Paired', clusterer.labels_.max()+1)\n",
        "cluster_colors = [color_palette[x] if x >= 0 else (0.5, 0.5, 0.5) for x in clusterer.labels_]\n",
        "cluster_member_colors = [sns.desaturate(x, p) for x, p in zip(cluster_colors, clusterer.probabilities_)]\n",
        "cluster_alphas = np.ones_like(clusterer.labels_)*0.5\n",
        "cluster_alphas[clusterer.labels_==-1] = 0.1\n",
        "\n",
        "fig = draw_umap(data=embeddings_inference, colors=cluster_member_colors, n_neighbors=30, min_dist=0.1, title='n_neighbors = {}'.format(15), alpha=cluster_alphas)\n",
        "\n",
        "wandb.log({\"UMAP 2d Optimal validity\": wandb.Image(fig)})\n",
        "\n",
        "log_df = pd.DataFrame(parameter_list[best_index],index=[0])\n",
        "best_parameters_table = wandb.Table(dataframe=log_df)\n",
        "wandb.log({\"Best validity parameters\": best_parameters_table})\n",
        "\n",
        "parameter_list[best_index]"
      ]
    },
    {
      "cell_type": "code",
      "execution_count": null,
      "metadata": {
        "id": "td9U56_lh-7n"
      },
      "outputs": [],
      "source": [
        "best_index = (np.array(DBIndex_list) == np.min(np.array(DBIndex_list))).nonzero()[0][0]\n",
        "best_dbindex = np.min(np.array(DBIndex_list))\n",
        "\n",
        "clusterer = hdbscan.HDBSCAN(**parameter_list[best_index])\n",
        "clusterer.fit(embeddings_inference)\n",
        "\n",
        "# Plotting best results\n",
        "sns.color_palette('Paired', clusterer.labels_.max()+1)\n",
        "\n",
        "color_palette = sns.color_palette('Paired', clusterer.labels_.max()+1)\n",
        "cluster_colors = [color_palette[x] if x >= 0 else (0.5, 0.5, 0.5) for x in clusterer.labels_]\n",
        "cluster_member_colors = [sns.desaturate(x, p) for x, p in zip(cluster_colors, clusterer.probabilities_)]\n",
        "cluster_alphas = np.ones_like(clusterer.labels_)*0.5\n",
        "cluster_alphas[clusterer.labels_==-1] = 0.1\n",
        "\n",
        "fig = draw_umap(data=embeddings_inference, colors=cluster_member_colors, n_neighbors=30, min_dist=0.1, title='n_neighbors = {}'.format(15), alpha=cluster_alphas)\n",
        "\n",
        "wandb.log({\"UMAP 2d Optimal DBIndex\": wandb.Image(fig)})\n",
        "\n",
        "log_df = pd.DataFrame(parameter_list[best_index],index=[0])\n",
        "best_parameters_table = wandb.Table(dataframe=log_df)\n",
        "wandb.log({\"Best DBIndex parameters\": best_parameters_table})\n",
        "\n",
        "parameter_list[best_index]"
      ]
    },
    {
      "cell_type": "code",
      "execution_count": null,
      "metadata": {
        "id": "HViNFj9ziZiZ"
      },
      "outputs": [],
      "source": [
        "best_index = (np.array(silhouette_list) == np.max(np.array(silhouette_list))).nonzero()[0][0]\n",
        "best_silhouette = np.max(np.array(silhouette_list))\n",
        "\n",
        "clusterer = hdbscan.HDBSCAN(**parameter_list[best_index])\n",
        "clusterer.fit(embeddings_inference)\n",
        "\n",
        "# Plotting best results\n",
        "sns.color_palette('Paired', clusterer.labels_.max()+1)\n",
        "\n",
        "color_palette = sns.color_palette('Paired', clusterer.labels_.max()+1)\n",
        "cluster_colors = [color_palette[x] if x >= 0 else (0.5, 0.5, 0.5) for x in clusterer.labels_]\n",
        "cluster_member_colors = [sns.desaturate(x, p) for x, p in zip(cluster_colors, clusterer.probabilities_)]\n",
        "cluster_alphas = np.ones_like(clusterer.labels_)*0.5\n",
        "cluster_alphas[clusterer.labels_==-1] = 0.1\n",
        "\n",
        "fig = draw_umap(data=embeddings_inference, colors=cluster_member_colors, n_neighbors=30, min_dist=0.1, title='n_neighbors = {}'.format(15), alpha=cluster_alphas)\n",
        "\n",
        "wandb.log({\"UMAP 2d Optimal silhouette\": wandb.Image(fig)})\n",
        "\n",
        "log_df = pd.DataFrame(parameter_list[best_index],index=[0])\n",
        "best_parameters_table = wandb.Table(dataframe=log_df)\n",
        "wandb.log({\"Best silhouette parameters\": best_parameters_table})\n",
        "\n",
        "parameter_list[best_index]\n"
      ]
    },
    {
      "cell_type": "code",
      "execution_count": null,
      "metadata": {
        "id": "UkFJwQjkVu34"
      },
      "outputs": [],
      "source": [
        "wandb.log({'Best Validity:': best_validity,\n",
        "           'Best Silhouette': best_silhouette,\n",
        "           'Best DBIndex': best_dbindex})\n",
        "\n",
        "print('Silhouette Score (best is 1):', best_silhouette)\n",
        "print('Davies-Bouldin Score (best is 0):', best_dbindex)\n",
        "print('HDBSCAN Relative Validity (higher is better):', best_validity)\n",
        "wandb.finish()"
      ]
    },
    {
      "cell_type": "code",
      "execution_count": null,
      "metadata": {
        "id": "ipEHfupzbO7m"
      },
      "outputs": [],
      "source": [
        "# fig = draw_umap(data=embeddings_inference, colors=cluster_member_colors, n_neighbors=30, min_dist=0.1, title='n_neighbors = {}'.format(15), n_components=3, alpha=cluster_alphas)\n",
        "\n",
        "# wandb.log({\"UMAP 3d Optimal HDBSCAN\": wandb.Image(fig)})\n",
        "\n",
        "# wandb.finish()"
      ]
    },
    {
      "cell_type": "markdown",
      "metadata": {
        "id": "CB6TGr0im_V3"
      },
      "source": [
        "# Cluster plotting and visualization"
      ]
    },
    {
      "cell_type": "markdown",
      "metadata": {
        "id": "EsdJ1K8RmP5f"
      },
      "source": [
        "Init cluster plotting function."
      ]
    },
    {
      "cell_type": "code",
      "execution_count": null,
      "metadata": {
        "id": "oHQmMz4nmYTu"
      },
      "outputs": [],
      "source": [
        "def cluster_plot(cluster_rows:int, cluster_col:int, images_list:np.array, dpi:int):\n",
        "  fig = plt.figure(figsize=[cluster_col, cluster_rows], layout='constrained', dpi=dpi)\n",
        "  spec = gridspec.GridSpec(ncols=cluster_col, nrows=cluster_rows, figure=fig, wspace=0, hspace=0)\n",
        "\n",
        "  # Shuffle list and use first 16 filepaths to plot images\n",
        "  np.random.shuffle(images_list)\n",
        "\n",
        "  # For loop to go through and use Team Yellow's load image module\n",
        "  n = 0\n",
        "  for j in range(cluster_rows):\n",
        "    for i in range(cluster_col):\n",
        "      if images_list.shape[0] > n:\n",
        "        image = read_image(image_loc = images_list[n], image_format = \"jpg\")\n",
        "        # Scatter plot\n",
        "        ax1 = fig.add_subplot(spec[j, i])\n",
        "        ax1.imshow(image)\n",
        "        ax1.set_xticks([])\n",
        "        ax1.set_yticks([])\n",
        "      else:\n",
        "        break\n",
        "      n += 1"
      ]
    },
    {
      "cell_type": "code",
      "execution_count": null,
      "metadata": {
        "id": "tltW46nwl1lj"
      },
      "outputs": [],
      "source": [
        "# Loop through all cluster labels\n",
        "n_clusters_2_plot = 20\n",
        "\n",
        "# Create a random draw of integers between a range\n",
        "clusters_2_plot = np.random.choice(clusterer.labels_[clusterer.labels_ >= 0],\n",
        "                                   size=n_clusters_2_plot,\n",
        "                                   replace=False)\n",
        "\n",
        "for cluster in clusters_2_plot:\n",
        "  cluster_plot(cluster_rows=2,\n",
        "               cluster_col=10,\n",
        "               images_list=returned_images[clusterer.labels_==cluster],\n",
        "               dpi=300)"
      ]
    },
    {
      "cell_type": "code",
      "execution_count": null,
      "metadata": {
        "id": "2c1LBDODQxo9"
      },
      "outputs": [],
      "source": [
        "fit = UMAP()\n",
        "%time u = fit.fit_transform(embeddings_inference)"
      ]
    },
    {
      "cell_type": "code",
      "execution_count": null,
      "metadata": {
        "id": "o87AApV_REqo"
      },
      "outputs": [],
      "source": [
        "plt.scatter(u[:,0], u[:,1], s=5, linewidth=0, c=cluster_member_colors, alpha=0.25)\n",
        "plt.title('UMAP embedding of six dimensions')"
      ]
    },
    {
      "cell_type": "markdown",
      "metadata": {
        "id": "fGU3kiUhUa3l"
      },
      "source": [
        "Draw Map Function"
      ]
    },
    {
      "cell_type": "code",
      "execution_count": null,
      "metadata": {
        "id": "oOi7TusLWAh3"
      },
      "outputs": [],
      "source": [
        "draw_umap(data=embeddings_inference, colors=cluster_member_colors, n_neighbors=15, title='n_neighbors = {}'.format(15))"
      ]
    },
    {
      "cell_type": "code",
      "execution_count": null,
      "metadata": {
        "id": "JxHO5YXkU6Go"
      },
      "outputs": [],
      "source": [
        "# for n in (2, 5, 10, 20, 50, 100, 200):\n",
        "#     draw_umap(n_neighbors=n, title='n_neighbors = {}'.format(n))"
      ]
    },
    {
      "cell_type": "code",
      "execution_count": null,
      "metadata": {
        "id": "sd2w6urb9sTO"
      },
      "outputs": [],
      "source": []
    }
  ],
  "metadata": {
    "accelerator": "GPU",
    "colab": {
      "gpuType": "T4",
      "machine_shape": "hm",
      "provenance": [],
      "include_colab_link": true
    },
    "kernelspec": {
      "display_name": "Python 3",
      "name": "python3"
    },
    "language_info": {
      "codemirror_mode": {
        "name": "ipython",
        "version": 3
      },
      "file_extension": ".py",
      "mimetype": "text/x-python",
      "name": "python",
      "nbconvert_exporter": "python",
      "pygments_lexer": "ipython3",
      "version": "3.10.12"
    },
    "orig_nbformat": 4,
    "widgets": {
      "application/vnd.jupyter.widget-state+json": {
        "f632c10b4e7443d5a3b0802a162c177d": {
          "model_module": "@jupyter-widgets/controls",
          "model_name": "VBoxModel",
          "model_module_version": "1.5.0",
          "state": {
            "_dom_classes": [],
            "_model_module": "@jupyter-widgets/controls",
            "_model_module_version": "1.5.0",
            "_model_name": "VBoxModel",
            "_view_count": null,
            "_view_module": "@jupyter-widgets/controls",
            "_view_module_version": "1.5.0",
            "_view_name": "VBoxView",
            "box_style": "",
            "children": [
              "IPY_MODEL_6f04e71e3cf34947afd5e9e8e9e9bf55",
              "IPY_MODEL_609888f19fc84facb57bb7a419b5afb2"
            ],
            "layout": "IPY_MODEL_d3a481ff6ea245278b8c6481539dbc10"
          }
        },
        "6f04e71e3cf34947afd5e9e8e9e9bf55": {
          "model_module": "@jupyter-widgets/controls",
          "model_name": "LabelModel",
          "model_module_version": "1.5.0",
          "state": {
            "_dom_classes": [],
            "_model_module": "@jupyter-widgets/controls",
            "_model_module_version": "1.5.0",
            "_model_name": "LabelModel",
            "_view_count": null,
            "_view_module": "@jupyter-widgets/controls",
            "_view_module_version": "1.5.0",
            "_view_name": "LabelView",
            "description": "",
            "description_tooltip": null,
            "layout": "IPY_MODEL_c9dac2c9d48e46219dd433dd5d7c8d58",
            "placeholder": "​",
            "style": "IPY_MODEL_208cc54a79cb40afbed575a329934955",
            "value": "Waiting for wandb.init()...\r"
          }
        },
        "609888f19fc84facb57bb7a419b5afb2": {
          "model_module": "@jupyter-widgets/controls",
          "model_name": "FloatProgressModel",
          "model_module_version": "1.5.0",
          "state": {
            "_dom_classes": [],
            "_model_module": "@jupyter-widgets/controls",
            "_model_module_version": "1.5.0",
            "_model_name": "FloatProgressModel",
            "_view_count": null,
            "_view_module": "@jupyter-widgets/controls",
            "_view_module_version": "1.5.0",
            "_view_name": "ProgressView",
            "bar_style": "",
            "description": "",
            "description_tooltip": null,
            "layout": "IPY_MODEL_1cceeb2e0dc64df3a500f765c46e5a15",
            "max": 1,
            "min": 0,
            "orientation": "horizontal",
            "style": "IPY_MODEL_b3f1791bf3dc433088ee8af07794ec5e",
            "value": 1
          }
        },
        "d3a481ff6ea245278b8c6481539dbc10": {
          "model_module": "@jupyter-widgets/base",
          "model_name": "LayoutModel",
          "model_module_version": "1.2.0",
          "state": {
            "_model_module": "@jupyter-widgets/base",
            "_model_module_version": "1.2.0",
            "_model_name": "LayoutModel",
            "_view_count": null,
            "_view_module": "@jupyter-widgets/base",
            "_view_module_version": "1.2.0",
            "_view_name": "LayoutView",
            "align_content": null,
            "align_items": null,
            "align_self": null,
            "border": null,
            "bottom": null,
            "display": null,
            "flex": null,
            "flex_flow": null,
            "grid_area": null,
            "grid_auto_columns": null,
            "grid_auto_flow": null,
            "grid_auto_rows": null,
            "grid_column": null,
            "grid_gap": null,
            "grid_row": null,
            "grid_template_areas": null,
            "grid_template_columns": null,
            "grid_template_rows": null,
            "height": null,
            "justify_content": null,
            "justify_items": null,
            "left": null,
            "margin": null,
            "max_height": null,
            "max_width": null,
            "min_height": null,
            "min_width": null,
            "object_fit": null,
            "object_position": null,
            "order": null,
            "overflow": null,
            "overflow_x": null,
            "overflow_y": null,
            "padding": null,
            "right": null,
            "top": null,
            "visibility": null,
            "width": null
          }
        },
        "c9dac2c9d48e46219dd433dd5d7c8d58": {
          "model_module": "@jupyter-widgets/base",
          "model_name": "LayoutModel",
          "model_module_version": "1.2.0",
          "state": {
            "_model_module": "@jupyter-widgets/base",
            "_model_module_version": "1.2.0",
            "_model_name": "LayoutModel",
            "_view_count": null,
            "_view_module": "@jupyter-widgets/base",
            "_view_module_version": "1.2.0",
            "_view_name": "LayoutView",
            "align_content": null,
            "align_items": null,
            "align_self": null,
            "border": null,
            "bottom": null,
            "display": null,
            "flex": null,
            "flex_flow": null,
            "grid_area": null,
            "grid_auto_columns": null,
            "grid_auto_flow": null,
            "grid_auto_rows": null,
            "grid_column": null,
            "grid_gap": null,
            "grid_row": null,
            "grid_template_areas": null,
            "grid_template_columns": null,
            "grid_template_rows": null,
            "height": null,
            "justify_content": null,
            "justify_items": null,
            "left": null,
            "margin": null,
            "max_height": null,
            "max_width": null,
            "min_height": null,
            "min_width": null,
            "object_fit": null,
            "object_position": null,
            "order": null,
            "overflow": null,
            "overflow_x": null,
            "overflow_y": null,
            "padding": null,
            "right": null,
            "top": null,
            "visibility": null,
            "width": null
          }
        },
        "208cc54a79cb40afbed575a329934955": {
          "model_module": "@jupyter-widgets/controls",
          "model_name": "DescriptionStyleModel",
          "model_module_version": "1.5.0",
          "state": {
            "_model_module": "@jupyter-widgets/controls",
            "_model_module_version": "1.5.0",
            "_model_name": "DescriptionStyleModel",
            "_view_count": null,
            "_view_module": "@jupyter-widgets/base",
            "_view_module_version": "1.2.0",
            "_view_name": "StyleView",
            "description_width": ""
          }
        },
        "1cceeb2e0dc64df3a500f765c46e5a15": {
          "model_module": "@jupyter-widgets/base",
          "model_name": "LayoutModel",
          "model_module_version": "1.2.0",
          "state": {
            "_model_module": "@jupyter-widgets/base",
            "_model_module_version": "1.2.0",
            "_model_name": "LayoutModel",
            "_view_count": null,
            "_view_module": "@jupyter-widgets/base",
            "_view_module_version": "1.2.0",
            "_view_name": "LayoutView",
            "align_content": null,
            "align_items": null,
            "align_self": null,
            "border": null,
            "bottom": null,
            "display": null,
            "flex": null,
            "flex_flow": null,
            "grid_area": null,
            "grid_auto_columns": null,
            "grid_auto_flow": null,
            "grid_auto_rows": null,
            "grid_column": null,
            "grid_gap": null,
            "grid_row": null,
            "grid_template_areas": null,
            "grid_template_columns": null,
            "grid_template_rows": null,
            "height": null,
            "justify_content": null,
            "justify_items": null,
            "left": null,
            "margin": null,
            "max_height": null,
            "max_width": null,
            "min_height": null,
            "min_width": null,
            "object_fit": null,
            "object_position": null,
            "order": null,
            "overflow": null,
            "overflow_x": null,
            "overflow_y": null,
            "padding": null,
            "right": null,
            "top": null,
            "visibility": null,
            "width": null
          }
        },
        "b3f1791bf3dc433088ee8af07794ec5e": {
          "model_module": "@jupyter-widgets/controls",
          "model_name": "ProgressStyleModel",
          "model_module_version": "1.5.0",
          "state": {
            "_model_module": "@jupyter-widgets/controls",
            "_model_module_version": "1.5.0",
            "_model_name": "ProgressStyleModel",
            "_view_count": null,
            "_view_module": "@jupyter-widgets/base",
            "_view_module_version": "1.2.0",
            "_view_name": "StyleView",
            "bar_color": null,
            "description_width": ""
          }
        },
        "a242ef8c75324861bea2771ad286724a": {
          "model_module": "@jupyter-widgets/controls",
          "model_name": "HBoxModel",
          "model_module_version": "1.5.0",
          "state": {
            "_dom_classes": [],
            "_model_module": "@jupyter-widgets/controls",
            "_model_module_version": "1.5.0",
            "_model_name": "HBoxModel",
            "_view_count": null,
            "_view_module": "@jupyter-widgets/controls",
            "_view_module_version": "1.5.0",
            "_view_name": "HBoxView",
            "box_style": "",
            "children": [
              "IPY_MODEL_55b6e9ce29cf4ac58434ac94f8338d1e",
              "IPY_MODEL_0382e43f3e294cafbfe93c36b0c6f98f",
              "IPY_MODEL_4f13bba973924847b007dd9d78465b90"
            ],
            "layout": "IPY_MODEL_e5ea1405ecb9469896d4cfc18bceacf9"
          }
        },
        "55b6e9ce29cf4ac58434ac94f8338d1e": {
          "model_module": "@jupyter-widgets/controls",
          "model_name": "HTMLModel",
          "model_module_version": "1.5.0",
          "state": {
            "_dom_classes": [],
            "_model_module": "@jupyter-widgets/controls",
            "_model_module_version": "1.5.0",
            "_model_name": "HTMLModel",
            "_view_count": null,
            "_view_module": "@jupyter-widgets/controls",
            "_view_module_version": "1.5.0",
            "_view_name": "HTMLView",
            "description": "",
            "description_tooltip": null,
            "layout": "IPY_MODEL_54bd4bdcfa0441a2a5f260b29c02d492",
            "placeholder": "​",
            "style": "IPY_MODEL_948b0d626c534fb8b953cffd3aa130b5",
            "value": "Epoch 5:  52%"
          }
        },
        "0382e43f3e294cafbfe93c36b0c6f98f": {
          "model_module": "@jupyter-widgets/controls",
          "model_name": "FloatProgressModel",
          "model_module_version": "1.5.0",
          "state": {
            "_dom_classes": [],
            "_model_module": "@jupyter-widgets/controls",
            "_model_module_version": "1.5.0",
            "_model_name": "FloatProgressModel",
            "_view_count": null,
            "_view_module": "@jupyter-widgets/controls",
            "_view_module_version": "1.5.0",
            "_view_name": "ProgressView",
            "bar_style": "",
            "description": "",
            "description_tooltip": null,
            "layout": "IPY_MODEL_b68bf0475c674b05822a01cbc0146d3a",
            "max": 539,
            "min": 0,
            "orientation": "horizontal",
            "style": "IPY_MODEL_1385595e09bb4daca0a7d9ebfd167b98",
            "value": 280
          }
        },
        "4f13bba973924847b007dd9d78465b90": {
          "model_module": "@jupyter-widgets/controls",
          "model_name": "HTMLModel",
          "model_module_version": "1.5.0",
          "state": {
            "_dom_classes": [],
            "_model_module": "@jupyter-widgets/controls",
            "_model_module_version": "1.5.0",
            "_model_name": "HTMLModel",
            "_view_count": null,
            "_view_module": "@jupyter-widgets/controls",
            "_view_module_version": "1.5.0",
            "_view_name": "HTMLView",
            "description": "",
            "description_tooltip": null,
            "layout": "IPY_MODEL_6546f73f35b446e18c4cbcca8342f24a",
            "placeholder": "​",
            "style": "IPY_MODEL_97e83a252ab54fdba326389e4c3f95cd",
            "value": " 280/539 [07:41&lt;07:06,  1.65s/it, v_num=cw9i]"
          }
        },
        "e5ea1405ecb9469896d4cfc18bceacf9": {
          "model_module": "@jupyter-widgets/base",
          "model_name": "LayoutModel",
          "model_module_version": "1.2.0",
          "state": {
            "_model_module": "@jupyter-widgets/base",
            "_model_module_version": "1.2.0",
            "_model_name": "LayoutModel",
            "_view_count": null,
            "_view_module": "@jupyter-widgets/base",
            "_view_module_version": "1.2.0",
            "_view_name": "LayoutView",
            "align_content": null,
            "align_items": null,
            "align_self": null,
            "border": null,
            "bottom": null,
            "display": "inline-flex",
            "flex": null,
            "flex_flow": "row wrap",
            "grid_area": null,
            "grid_auto_columns": null,
            "grid_auto_flow": null,
            "grid_auto_rows": null,
            "grid_column": null,
            "grid_gap": null,
            "grid_row": null,
            "grid_template_areas": null,
            "grid_template_columns": null,
            "grid_template_rows": null,
            "height": null,
            "justify_content": null,
            "justify_items": null,
            "left": null,
            "margin": null,
            "max_height": null,
            "max_width": null,
            "min_height": null,
            "min_width": null,
            "object_fit": null,
            "object_position": null,
            "order": null,
            "overflow": null,
            "overflow_x": null,
            "overflow_y": null,
            "padding": null,
            "right": null,
            "top": null,
            "visibility": null,
            "width": "100%"
          }
        },
        "54bd4bdcfa0441a2a5f260b29c02d492": {
          "model_module": "@jupyter-widgets/base",
          "model_name": "LayoutModel",
          "model_module_version": "1.2.0",
          "state": {
            "_model_module": "@jupyter-widgets/base",
            "_model_module_version": "1.2.0",
            "_model_name": "LayoutModel",
            "_view_count": null,
            "_view_module": "@jupyter-widgets/base",
            "_view_module_version": "1.2.0",
            "_view_name": "LayoutView",
            "align_content": null,
            "align_items": null,
            "align_self": null,
            "border": null,
            "bottom": null,
            "display": null,
            "flex": null,
            "flex_flow": null,
            "grid_area": null,
            "grid_auto_columns": null,
            "grid_auto_flow": null,
            "grid_auto_rows": null,
            "grid_column": null,
            "grid_gap": null,
            "grid_row": null,
            "grid_template_areas": null,
            "grid_template_columns": null,
            "grid_template_rows": null,
            "height": null,
            "justify_content": null,
            "justify_items": null,
            "left": null,
            "margin": null,
            "max_height": null,
            "max_width": null,
            "min_height": null,
            "min_width": null,
            "object_fit": null,
            "object_position": null,
            "order": null,
            "overflow": null,
            "overflow_x": null,
            "overflow_y": null,
            "padding": null,
            "right": null,
            "top": null,
            "visibility": null,
            "width": null
          }
        },
        "948b0d626c534fb8b953cffd3aa130b5": {
          "model_module": "@jupyter-widgets/controls",
          "model_name": "DescriptionStyleModel",
          "model_module_version": "1.5.0",
          "state": {
            "_model_module": "@jupyter-widgets/controls",
            "_model_module_version": "1.5.0",
            "_model_name": "DescriptionStyleModel",
            "_view_count": null,
            "_view_module": "@jupyter-widgets/base",
            "_view_module_version": "1.2.0",
            "_view_name": "StyleView",
            "description_width": ""
          }
        },
        "b68bf0475c674b05822a01cbc0146d3a": {
          "model_module": "@jupyter-widgets/base",
          "model_name": "LayoutModel",
          "model_module_version": "1.2.0",
          "state": {
            "_model_module": "@jupyter-widgets/base",
            "_model_module_version": "1.2.0",
            "_model_name": "LayoutModel",
            "_view_count": null,
            "_view_module": "@jupyter-widgets/base",
            "_view_module_version": "1.2.0",
            "_view_name": "LayoutView",
            "align_content": null,
            "align_items": null,
            "align_self": null,
            "border": null,
            "bottom": null,
            "display": null,
            "flex": "2",
            "flex_flow": null,
            "grid_area": null,
            "grid_auto_columns": null,
            "grid_auto_flow": null,
            "grid_auto_rows": null,
            "grid_column": null,
            "grid_gap": null,
            "grid_row": null,
            "grid_template_areas": null,
            "grid_template_columns": null,
            "grid_template_rows": null,
            "height": null,
            "justify_content": null,
            "justify_items": null,
            "left": null,
            "margin": null,
            "max_height": null,
            "max_width": null,
            "min_height": null,
            "min_width": null,
            "object_fit": null,
            "object_position": null,
            "order": null,
            "overflow": null,
            "overflow_x": null,
            "overflow_y": null,
            "padding": null,
            "right": null,
            "top": null,
            "visibility": null,
            "width": null
          }
        },
        "1385595e09bb4daca0a7d9ebfd167b98": {
          "model_module": "@jupyter-widgets/controls",
          "model_name": "ProgressStyleModel",
          "model_module_version": "1.5.0",
          "state": {
            "_model_module": "@jupyter-widgets/controls",
            "_model_module_version": "1.5.0",
            "_model_name": "ProgressStyleModel",
            "_view_count": null,
            "_view_module": "@jupyter-widgets/base",
            "_view_module_version": "1.2.0",
            "_view_name": "StyleView",
            "bar_color": null,
            "description_width": ""
          }
        },
        "6546f73f35b446e18c4cbcca8342f24a": {
          "model_module": "@jupyter-widgets/base",
          "model_name": "LayoutModel",
          "model_module_version": "1.2.0",
          "state": {
            "_model_module": "@jupyter-widgets/base",
            "_model_module_version": "1.2.0",
            "_model_name": "LayoutModel",
            "_view_count": null,
            "_view_module": "@jupyter-widgets/base",
            "_view_module_version": "1.2.0",
            "_view_name": "LayoutView",
            "align_content": null,
            "align_items": null,
            "align_self": null,
            "border": null,
            "bottom": null,
            "display": null,
            "flex": null,
            "flex_flow": null,
            "grid_area": null,
            "grid_auto_columns": null,
            "grid_auto_flow": null,
            "grid_auto_rows": null,
            "grid_column": null,
            "grid_gap": null,
            "grid_row": null,
            "grid_template_areas": null,
            "grid_template_columns": null,
            "grid_template_rows": null,
            "height": null,
            "justify_content": null,
            "justify_items": null,
            "left": null,
            "margin": null,
            "max_height": null,
            "max_width": null,
            "min_height": null,
            "min_width": null,
            "object_fit": null,
            "object_position": null,
            "order": null,
            "overflow": null,
            "overflow_x": null,
            "overflow_y": null,
            "padding": null,
            "right": null,
            "top": null,
            "visibility": null,
            "width": null
          }
        },
        "97e83a252ab54fdba326389e4c3f95cd": {
          "model_module": "@jupyter-widgets/controls",
          "model_name": "DescriptionStyleModel",
          "model_module_version": "1.5.0",
          "state": {
            "_model_module": "@jupyter-widgets/controls",
            "_model_module_version": "1.5.0",
            "_model_name": "DescriptionStyleModel",
            "_view_count": null,
            "_view_module": "@jupyter-widgets/base",
            "_view_module_version": "1.2.0",
            "_view_name": "StyleView",
            "description_width": ""
          }
        }
      }
    }
  },
  "nbformat": 4,
  "nbformat_minor": 0
}